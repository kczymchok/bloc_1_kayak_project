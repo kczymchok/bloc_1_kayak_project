{
 "cells": [
  {
   "cell_type": "markdown",
   "metadata": {},
   "source": [
    "# KAYAK PROJECT : Part 3 ETL PROCESS"
   ]
  },
  {
   "cell_type": "markdown",
   "metadata": {},
   "source": [
    "## I. Extract from S3 bucket"
   ]
  },
  {
   "cell_type": "code",
   "execution_count": 1,
   "metadata": {},
   "outputs": [],
   "source": [
    "import boto3\n",
    "import os\n",
    "import pandas as pd\n",
    "import numpy as np\n",
    "import matplotlib.pyplot as plt\n",
    "import plotly.express as px\n",
    "import sqlite3"
   ]
  },
  {
   "cell_type": "code",
   "execution_count": 2,
   "metadata": {},
   "outputs": [],
   "source": [
    "# Initialize a session using your AWS credentials\n",
    "session = boto3.Session(\n",
    "    aws_access_key_id=\"AWS_ACCESS_KEY\",\n",
    "    aws_secret_access_key=\"AWS_SECRET_ACCESS_KEY\",\n",
    ")\n",
    "\n",
    "s3 = session.client('s3')"
   ]
  },
  {
   "cell_type": "code",
   "execution_count": 3,
   "metadata": {},
   "outputs": [
    {
     "name": "stdout",
     "output_type": "stream",
     "text": [
      "Downloaded all_cities_info_deals.csv from holiday-recommendation to ./extracted_data/all_cities_info_deals.csv\n"
     ]
    }
   ],
   "source": [
    "# Specify the object key (filename) to download\n",
    "key_1 = 'all_cities_info_deals.csv'\n",
    "key_2 = 'results_link_df.csv'\n",
    "key_3 = 'coordinates_df.csv'\n",
    "key_4 = 'forecast_weather_5daysdf.csv'\n",
    "# Specify the local file path to save the downloaded object\n",
    "local_file_path = f'./extracted_data_from_S3/{key_1}'\n",
    "local_file_path_2 = f'./extracted_data_from_S3/{key_2}'\n",
    "local_file_path_3 = f'./extracted_data_from_S3/{key_3}'\n",
    "local_file_path_4 = f'./extracted_data_from_S3/{key_4}'\n",
    "\n",
    "bucket_name=\"holiday-recommendation\"\n",
    "# Download the object\n",
    "s3.download_file(bucket_name, key_1, local_file_path)\n",
    "s3.download_file(bucket_name, key_2, local_file_path_2)\n",
    "s3.download_file(bucket_name, key_3, local_file_path_3)\n",
    "s3.download_file(bucket_name, key_4, local_file_path_4)\n",
    "\n",
    "print(f\"Downloaded {key_1} from {bucket_name} to {local_file_path}\")"
   ]
  },
  {
   "cell_type": "markdown",
   "metadata": {},
   "source": [
    "## II. Transform"
   ]
  },
  {
   "cell_type": "markdown",
   "metadata": {},
   "source": [
    "#### a. Transform Scraped data from booking using Beautiful Soup and Selenium"
   ]
  },
  {
   "cell_type": "code",
   "execution_count": 4,
   "metadata": {},
   "outputs": [
    {
     "data": {
      "text/html": [
       "<div>\n",
       "<style scoped>\n",
       "    .dataframe tbody tr th:only-of-type {\n",
       "        vertical-align: middle;\n",
       "    }\n",
       "\n",
       "    .dataframe tbody tr th {\n",
       "        vertical-align: top;\n",
       "    }\n",
       "\n",
       "    .dataframe thead th {\n",
       "        text-align: right;\n",
       "    }\n",
       "</style>\n",
       "<table border=\"1\" class=\"dataframe\">\n",
       "  <thead>\n",
       "    <tr style=\"text-align: right;\">\n",
       "      <th></th>\n",
       "      <th>city</th>\n",
       "      <th>name</th>\n",
       "      <th>hotel_prices</th>\n",
       "      <th>rating</th>\n",
       "      <th>number of review</th>\n",
       "      <th>hotel_link</th>\n",
       "    </tr>\n",
       "  </thead>\n",
       "  <tbody>\n",
       "    <tr>\n",
       "      <th>0</th>\n",
       "      <td>Amiens</td>\n",
       "      <td>Appart'City Confort Amiens Gare</td>\n",
       "      <td>$930</td>\n",
       "      <td>Scored 7.6</td>\n",
       "      <td>1,743 reviews</td>\n",
       "      <td>https://www.booking.com/hotel/fr/appart-city-a...</td>\n",
       "    </tr>\n",
       "    <tr>\n",
       "      <th>1</th>\n",
       "      <td>Amiens</td>\n",
       "      <td>The Nest</td>\n",
       "      <td>$973</td>\n",
       "      <td>Scored 8.2</td>\n",
       "      <td>137 reviews</td>\n",
       "      <td>https://www.booking.com/hotel/fr/the-nest-amie...</td>\n",
       "    </tr>\n",
       "    <tr>\n",
       "      <th>2</th>\n",
       "      <td>Amiens</td>\n",
       "      <td>Nemea Appart Hotel Coliseum Amiens Centre</td>\n",
       "      <td>$1,029</td>\n",
       "      <td>Scored 8.6</td>\n",
       "      <td>332 reviews</td>\n",
       "      <td>https://www.booking.com/hotel/fr/nemea-appart-...</td>\n",
       "    </tr>\n",
       "    <tr>\n",
       "      <th>3</th>\n",
       "      <td>Amiens</td>\n",
       "      <td>Odalys City Amiens Blamont</td>\n",
       "      <td>$1,074</td>\n",
       "      <td>Scored 8.0</td>\n",
       "      <td>1,817 reviews</td>\n",
       "      <td>https://www.booking.com/hotel/fr/appart-39-oda...</td>\n",
       "    </tr>\n",
       "    <tr>\n",
       "      <th>4</th>\n",
       "      <td>Amiens</td>\n",
       "      <td>Le Saint Louis</td>\n",
       "      <td>$1,078</td>\n",
       "      <td>Scored 8.1</td>\n",
       "      <td>1,336 reviews</td>\n",
       "      <td>https://www.booking.com/hotel/fr/le-saint-loui...</td>\n",
       "    </tr>\n",
       "  </tbody>\n",
       "</table>\n",
       "</div>"
      ],
      "text/plain": [
       "     city                                       name hotel_prices      rating  \\\n",
       "0  Amiens            Appart'City Confort Amiens Gare         $930  Scored 7.6   \n",
       "1  Amiens                                   The Nest         $973  Scored 8.2   \n",
       "2  Amiens  Nemea Appart Hotel Coliseum Amiens Centre       $1,029  Scored 8.6   \n",
       "3  Amiens                 Odalys City Amiens Blamont       $1,074  Scored 8.0   \n",
       "4  Amiens                             Le Saint Louis       $1,078  Scored 8.1   \n",
       "\n",
       "  number of review                                         hotel_link  \n",
       "0    1,743 reviews  https://www.booking.com/hotel/fr/appart-city-a...  \n",
       "1      137 reviews  https://www.booking.com/hotel/fr/the-nest-amie...  \n",
       "2      332 reviews  https://www.booking.com/hotel/fr/nemea-appart-...  \n",
       "3    1,817 reviews  https://www.booking.com/hotel/fr/appart-39-oda...  \n",
       "4    1,336 reviews  https://www.booking.com/hotel/fr/le-saint-loui...  "
      ]
     },
     "execution_count": 4,
     "metadata": {},
     "output_type": "execute_result"
    }
   ],
   "source": [
    "all_cities_info_deals_df=pd.read_csv('./extracted_data/all_cities_info_deals.csv')\n",
    "all_cities_info_deals_df.head()"
   ]
  },
  {
   "cell_type": "code",
   "execution_count": 5,
   "metadata": {},
   "outputs": [
    {
     "name": "stdout",
     "output_type": "stream",
     "text": [
      "<class 'pandas.core.frame.DataFrame'>\n",
      "RangeIndex: 694 entries, 0 to 693\n",
      "Data columns (total 6 columns):\n",
      " #   Column            Non-Null Count  Dtype \n",
      "---  ------            --------------  ----- \n",
      " 0   city              694 non-null    object\n",
      " 1   name              694 non-null    object\n",
      " 2   hotel_prices      694 non-null    object\n",
      " 3   rating            694 non-null    object\n",
      " 4   number of review  694 non-null    object\n",
      " 5   hotel_link        694 non-null    object\n",
      "dtypes: object(6)\n",
      "memory usage: 32.7+ KB\n"
     ]
    }
   ],
   "source": [
    "all_cities_info_deals_df.info()"
   ]
  },
  {
   "cell_type": "code",
   "execution_count": 6,
   "metadata": {},
   "outputs": [],
   "source": [
    "# Cleaning prices column\n",
    "all_cities_info_deals_df['hotel_prices'] = all_cities_info_deals_df['hotel_prices'].astype('string')\n",
    "all_cities_info_deals_df['hotel_prices'] = all_cities_info_deals_df['hotel_prices'].str.replace('$', '')\n",
    "all_cities_info_deals_df['hotel_prices'] = all_cities_info_deals_df['hotel_prices'].str.replace(',', '')\n",
    "all_cities_info_deals_df['hotel_prices'] = all_cities_info_deals_df['hotel_prices'].astype(float)\n"
   ]
  },
  {
   "cell_type": "code",
   "execution_count": 7,
   "metadata": {},
   "outputs": [],
   "source": [
    "# Cleaning rating column\n",
    "all_cities_info_deals_df['rating'] = all_cities_info_deals_df['rating'].astype(str)\n",
    "all_cities_info_deals_df['rating'] = all_cities_info_deals_df['rating'].str.replace('Scored', '')\n",
    "all_cities_info_deals_df['rating'] = all_cities_info_deals_df['rating'].replace('No rating', np.nan)\n",
    "all_cities_info_deals_df['rating'] = all_cities_info_deals_df['rating'].str.strip()\n",
    "all_cities_info_deals_df['rating'] = pd.to_numeric(all_cities_info_deals_df['rating'], errors='coerce')"
   ]
  },
  {
   "cell_type": "code",
   "execution_count": 8,
   "metadata": {},
   "outputs": [],
   "source": [
    "# Cleaning review column\n",
    "all_cities_info_deals_df['number of review'] = all_cities_info_deals_df['number of review'].astype(str)\n",
    "all_cities_info_deals_df['number of review'] = all_cities_info_deals_df['number of review'].str.replace('reviews','')\n",
    "all_cities_info_deals_df['number of review'] = all_cities_info_deals_df['number of review'].str.replace(',', '')\n",
    "all_cities_info_deals_df['number of review'] = all_cities_info_deals_df['number of review'].replace('No ', np.nan)\n",
    "all_cities_info_deals_df['number of review'] = all_cities_info_deals_df['number of review'].astype(float)\n",
    "\n"
   ]
  },
  {
   "cell_type": "code",
   "execution_count": 9,
   "metadata": {},
   "outputs": [],
   "source": [
    "all_cities_info_deals_df['city'] = all_cities_info_deals_df['city'].astype('string')\n",
    "all_cities_info_deals_df['name'] = all_cities_info_deals_df['name'].astype('string')\n",
    "all_cities_info_deals_df['hotel_link'] = all_cities_info_deals_df['hotel_link'].astype('string')\n",
    "all_cities_info_deals_df.rename(columns={'name':'hotel_name'}, inplace=True)"
   ]
  },
  {
   "cell_type": "code",
   "execution_count": 10,
   "metadata": {},
   "outputs": [
    {
     "data": {
      "text/html": [
       "<div>\n",
       "<style scoped>\n",
       "    .dataframe tbody tr th:only-of-type {\n",
       "        vertical-align: middle;\n",
       "    }\n",
       "\n",
       "    .dataframe tbody tr th {\n",
       "        vertical-align: top;\n",
       "    }\n",
       "\n",
       "    .dataframe thead th {\n",
       "        text-align: right;\n",
       "    }\n",
       "</style>\n",
       "<table border=\"1\" class=\"dataframe\">\n",
       "  <thead>\n",
       "    <tr style=\"text-align: right;\">\n",
       "      <th></th>\n",
       "      <th>city</th>\n",
       "      <th>hotel_name</th>\n",
       "      <th>hotel_prices</th>\n",
       "      <th>rating</th>\n",
       "      <th>number of review</th>\n",
       "      <th>hotel_link</th>\n",
       "    </tr>\n",
       "  </thead>\n",
       "  <tbody>\n",
       "    <tr>\n",
       "      <th>0</th>\n",
       "      <td>Amiens</td>\n",
       "      <td>Appart'City Confort Amiens Gare</td>\n",
       "      <td>930.0</td>\n",
       "      <td>7.6</td>\n",
       "      <td>1743.0</td>\n",
       "      <td>https://www.booking.com/hotel/fr/appart-city-a...</td>\n",
       "    </tr>\n",
       "    <tr>\n",
       "      <th>1</th>\n",
       "      <td>Amiens</td>\n",
       "      <td>The Nest</td>\n",
       "      <td>973.0</td>\n",
       "      <td>8.2</td>\n",
       "      <td>137.0</td>\n",
       "      <td>https://www.booking.com/hotel/fr/the-nest-amie...</td>\n",
       "    </tr>\n",
       "    <tr>\n",
       "      <th>2</th>\n",
       "      <td>Amiens</td>\n",
       "      <td>Nemea Appart Hotel Coliseum Amiens Centre</td>\n",
       "      <td>1029.0</td>\n",
       "      <td>8.6</td>\n",
       "      <td>332.0</td>\n",
       "      <td>https://www.booking.com/hotel/fr/nemea-appart-...</td>\n",
       "    </tr>\n",
       "    <tr>\n",
       "      <th>3</th>\n",
       "      <td>Amiens</td>\n",
       "      <td>Odalys City Amiens Blamont</td>\n",
       "      <td>1074.0</td>\n",
       "      <td>8.0</td>\n",
       "      <td>1817.0</td>\n",
       "      <td>https://www.booking.com/hotel/fr/appart-39-oda...</td>\n",
       "    </tr>\n",
       "    <tr>\n",
       "      <th>4</th>\n",
       "      <td>Amiens</td>\n",
       "      <td>Le Saint Louis</td>\n",
       "      <td>1078.0</td>\n",
       "      <td>8.1</td>\n",
       "      <td>1336.0</td>\n",
       "      <td>https://www.booking.com/hotel/fr/le-saint-loui...</td>\n",
       "    </tr>\n",
       "  </tbody>\n",
       "</table>\n",
       "</div>"
      ],
      "text/plain": [
       "     city                                 hotel_name  hotel_prices  rating  \\\n",
       "0  Amiens            Appart'City Confort Amiens Gare         930.0     7.6   \n",
       "1  Amiens                                   The Nest         973.0     8.2   \n",
       "2  Amiens  Nemea Appart Hotel Coliseum Amiens Centre        1029.0     8.6   \n",
       "3  Amiens                 Odalys City Amiens Blamont        1074.0     8.0   \n",
       "4  Amiens                             Le Saint Louis        1078.0     8.1   \n",
       "\n",
       "   number of review                                         hotel_link  \n",
       "0            1743.0  https://www.booking.com/hotel/fr/appart-city-a...  \n",
       "1             137.0  https://www.booking.com/hotel/fr/the-nest-amie...  \n",
       "2             332.0  https://www.booking.com/hotel/fr/nemea-appart-...  \n",
       "3            1817.0  https://www.booking.com/hotel/fr/appart-39-oda...  \n",
       "4            1336.0  https://www.booking.com/hotel/fr/le-saint-loui...  "
      ]
     },
     "execution_count": 10,
     "metadata": {},
     "output_type": "execute_result"
    }
   ],
   "source": [
    "all_cities_info_deals_df.head()"
   ]
  },
  {
   "cell_type": "code",
   "execution_count": 11,
   "metadata": {},
   "outputs": [
    {
     "name": "stdout",
     "output_type": "stream",
     "text": [
      "<class 'pandas.core.frame.DataFrame'>\n",
      "RangeIndex: 694 entries, 0 to 693\n",
      "Data columns (total 6 columns):\n",
      " #   Column            Non-Null Count  Dtype  \n",
      "---  ------            --------------  -----  \n",
      " 0   city              694 non-null    string \n",
      " 1   hotel_name        694 non-null    string \n",
      " 2   hotel_prices      694 non-null    float64\n",
      " 3   rating            687 non-null    float64\n",
      " 4   number of review  687 non-null    float64\n",
      " 5   hotel_link        694 non-null    string \n",
      "dtypes: float64(3), string(3)\n",
      "memory usage: 32.7 KB\n"
     ]
    }
   ],
   "source": [
    "all_cities_info_deals_df.info()"
   ]
  },
  {
   "cell_type": "code",
   "execution_count": 12,
   "metadata": {},
   "outputs": [
    {
     "data": {
      "text/html": [
       "<div>\n",
       "<style scoped>\n",
       "    .dataframe tbody tr th:only-of-type {\n",
       "        vertical-align: middle;\n",
       "    }\n",
       "\n",
       "    .dataframe tbody tr th {\n",
       "        vertical-align: top;\n",
       "    }\n",
       "\n",
       "    .dataframe thead th {\n",
       "        text-align: right;\n",
       "    }\n",
       "</style>\n",
       "<table border=\"1\" class=\"dataframe\">\n",
       "  <thead>\n",
       "    <tr style=\"text-align: right;\">\n",
       "      <th></th>\n",
       "      <th>Unnamed: 0</th>\n",
       "      <th>hotel_name</th>\n",
       "      <th>hotel_address</th>\n",
       "      <th>latitude</th>\n",
       "      <th>longitude</th>\n",
       "    </tr>\n",
       "  </thead>\n",
       "  <tbody>\n",
       "    <tr>\n",
       "      <th>0</th>\n",
       "      <td>0</td>\n",
       "      <td>Appart'City Confort Amiens Gare</td>\n",
       "      <td>80, boulevard d'Alsace-Lorraine, 80000 Amiens,...</td>\n",
       "      <td>49.894316</td>\n",
       "      <td>2.309761</td>\n",
       "    </tr>\n",
       "    <tr>\n",
       "      <th>1</th>\n",
       "      <td>1</td>\n",
       "      <td>The Nest</td>\n",
       "      <td>37 Boulevard Maignan Larivière, 80000 Amiens, ...</td>\n",
       "      <td>49.889307</td>\n",
       "      <td>2.294634</td>\n",
       "    </tr>\n",
       "    <tr>\n",
       "      <th>2</th>\n",
       "      <td>2</td>\n",
       "      <td>Nemea Appart Hotel Coliseum Amiens Centre</td>\n",
       "      <td>25 Rue Frédéric Petit, 80000 Amiens, France</td>\n",
       "      <td>49.892175</td>\n",
       "      <td>2.288935</td>\n",
       "    </tr>\n",
       "    <tr>\n",
       "      <th>3</th>\n",
       "      <td>3</td>\n",
       "      <td>Odalys City Amiens Blamont</td>\n",
       "      <td>25 rue du Blamont, 80000 Amiens, France</td>\n",
       "      <td>49.887148</td>\n",
       "      <td>2.311611</td>\n",
       "    </tr>\n",
       "    <tr>\n",
       "      <th>4</th>\n",
       "      <td>4</td>\n",
       "      <td>Le Saint Louis</td>\n",
       "      <td>24 Rue Des Otages, 80000 Amiens, France</td>\n",
       "      <td>49.889779</td>\n",
       "      <td>2.302499</td>\n",
       "    </tr>\n",
       "  </tbody>\n",
       "</table>\n",
       "</div>"
      ],
      "text/plain": [
       "   Unnamed: 0                                 hotel_name  \\\n",
       "0           0            Appart'City Confort Amiens Gare   \n",
       "1           1                                   The Nest   \n",
       "2           2  Nemea Appart Hotel Coliseum Amiens Centre   \n",
       "3           3                 Odalys City Amiens Blamont   \n",
       "4           4                             Le Saint Louis   \n",
       "\n",
       "                                       hotel_address   latitude  longitude  \n",
       "0  80, boulevard d'Alsace-Lorraine, 80000 Amiens,...  49.894316   2.309761  \n",
       "1  37 Boulevard Maignan Larivière, 80000 Amiens, ...  49.889307   2.294634  \n",
       "2        25 Rue Frédéric Petit, 80000 Amiens, France  49.892175   2.288935  \n",
       "3            25 rue du Blamont, 80000 Amiens, France  49.887148   2.311611  \n",
       "4            24 Rue Des Otages, 80000 Amiens, France  49.889779   2.302499  "
      ]
     },
     "execution_count": 12,
     "metadata": {},
     "output_type": "execute_result"
    }
   ],
   "source": [
    "results_link_df=pd.read_csv('./extracted_data/results_link_df.csv')\n",
    "results_link_df.head()"
   ]
  },
  {
   "cell_type": "code",
   "execution_count": 13,
   "metadata": {},
   "outputs": [],
   "source": [
    "results_link_df.drop(columns=['Unnamed: 0'],inplace=True)"
   ]
  },
  {
   "cell_type": "code",
   "execution_count": 14,
   "metadata": {},
   "outputs": [],
   "source": [
    "results_link_df['hotel_name']=results_link_df['hotel_name'].astype('string')\n",
    "results_link_df['hotel_address']=results_link_df['hotel_address'].astype('string')"
   ]
  },
  {
   "cell_type": "code",
   "execution_count": 15,
   "metadata": {},
   "outputs": [
    {
     "data": {
      "text/html": [
       "<div>\n",
       "<style scoped>\n",
       "    .dataframe tbody tr th:only-of-type {\n",
       "        vertical-align: middle;\n",
       "    }\n",
       "\n",
       "    .dataframe tbody tr th {\n",
       "        vertical-align: top;\n",
       "    }\n",
       "\n",
       "    .dataframe thead th {\n",
       "        text-align: right;\n",
       "    }\n",
       "</style>\n",
       "<table border=\"1\" class=\"dataframe\">\n",
       "  <thead>\n",
       "    <tr style=\"text-align: right;\">\n",
       "      <th></th>\n",
       "      <th>city</th>\n",
       "      <th>hotel_name</th>\n",
       "      <th>hotel_prices</th>\n",
       "      <th>rating</th>\n",
       "      <th>number of review</th>\n",
       "      <th>hotel_link</th>\n",
       "      <th>hotel_address</th>\n",
       "      <th>latitude</th>\n",
       "      <th>longitude</th>\n",
       "    </tr>\n",
       "  </thead>\n",
       "  <tbody>\n",
       "    <tr>\n",
       "      <th>0</th>\n",
       "      <td>Amiens</td>\n",
       "      <td>Appart'City Confort Amiens Gare</td>\n",
       "      <td>930.0</td>\n",
       "      <td>7.6</td>\n",
       "      <td>1743.0</td>\n",
       "      <td>https://www.booking.com/hotel/fr/appart-city-a...</td>\n",
       "      <td>80, boulevard d'Alsace-Lorraine, 80000 Amiens,...</td>\n",
       "      <td>49.894316</td>\n",
       "      <td>2.309761</td>\n",
       "    </tr>\n",
       "    <tr>\n",
       "      <th>1</th>\n",
       "      <td>Amiens</td>\n",
       "      <td>The Nest</td>\n",
       "      <td>973.0</td>\n",
       "      <td>8.2</td>\n",
       "      <td>137.0</td>\n",
       "      <td>https://www.booking.com/hotel/fr/the-nest-amie...</td>\n",
       "      <td>37 Boulevard Maignan Larivière, 80000 Amiens, ...</td>\n",
       "      <td>49.889307</td>\n",
       "      <td>2.294634</td>\n",
       "    </tr>\n",
       "    <tr>\n",
       "      <th>2</th>\n",
       "      <td>Amiens</td>\n",
       "      <td>Nemea Appart Hotel Coliseum Amiens Centre</td>\n",
       "      <td>1029.0</td>\n",
       "      <td>8.6</td>\n",
       "      <td>332.0</td>\n",
       "      <td>https://www.booking.com/hotel/fr/nemea-appart-...</td>\n",
       "      <td>25 Rue Frédéric Petit, 80000 Amiens, France</td>\n",
       "      <td>49.892175</td>\n",
       "      <td>2.288935</td>\n",
       "    </tr>\n",
       "    <tr>\n",
       "      <th>3</th>\n",
       "      <td>Amiens</td>\n",
       "      <td>Odalys City Amiens Blamont</td>\n",
       "      <td>1074.0</td>\n",
       "      <td>8.0</td>\n",
       "      <td>1817.0</td>\n",
       "      <td>https://www.booking.com/hotel/fr/appart-39-oda...</td>\n",
       "      <td>25 rue du Blamont, 80000 Amiens, France</td>\n",
       "      <td>49.887148</td>\n",
       "      <td>2.311611</td>\n",
       "    </tr>\n",
       "    <tr>\n",
       "      <th>4</th>\n",
       "      <td>Amiens</td>\n",
       "      <td>Le Saint Louis</td>\n",
       "      <td>1078.0</td>\n",
       "      <td>8.1</td>\n",
       "      <td>1336.0</td>\n",
       "      <td>https://www.booking.com/hotel/fr/le-saint-loui...</td>\n",
       "      <td>24 Rue Des Otages, 80000 Amiens, France</td>\n",
       "      <td>49.889779</td>\n",
       "      <td>2.302499</td>\n",
       "    </tr>\n",
       "  </tbody>\n",
       "</table>\n",
       "</div>"
      ],
      "text/plain": [
       "     city                                 hotel_name  hotel_prices  rating  \\\n",
       "0  Amiens            Appart'City Confort Amiens Gare         930.0     7.6   \n",
       "1  Amiens                                   The Nest         973.0     8.2   \n",
       "2  Amiens  Nemea Appart Hotel Coliseum Amiens Centre        1029.0     8.6   \n",
       "3  Amiens                 Odalys City Amiens Blamont        1074.0     8.0   \n",
       "4  Amiens                             Le Saint Louis        1078.0     8.1   \n",
       "\n",
       "   number of review                                         hotel_link  \\\n",
       "0            1743.0  https://www.booking.com/hotel/fr/appart-city-a...   \n",
       "1             137.0  https://www.booking.com/hotel/fr/the-nest-amie...   \n",
       "2             332.0  https://www.booking.com/hotel/fr/nemea-appart-...   \n",
       "3            1817.0  https://www.booking.com/hotel/fr/appart-39-oda...   \n",
       "4            1336.0  https://www.booking.com/hotel/fr/le-saint-loui...   \n",
       "\n",
       "                                       hotel_address   latitude  longitude  \n",
       "0  80, boulevard d'Alsace-Lorraine, 80000 Amiens,...  49.894316   2.309761  \n",
       "1  37 Boulevard Maignan Larivière, 80000 Amiens, ...  49.889307   2.294634  \n",
       "2        25 Rue Frédéric Petit, 80000 Amiens, France  49.892175   2.288935  \n",
       "3            25 rue du Blamont, 80000 Amiens, France  49.887148   2.311611  \n",
       "4            24 Rue Des Otages, 80000 Amiens, France  49.889779   2.302499  "
      ]
     },
     "execution_count": 15,
     "metadata": {},
     "output_type": "execute_result"
    }
   ],
   "source": [
    "#Merge all_cities_info_deals_df and results_link_df to have the hotels deal, address and coordinates in the same dataframe\n",
    "hotel_deal_merged_final = pd.merge(all_cities_info_deals_df, results_link_df, on='hotel_name', how='left')\n",
    "hotel_deal_merged_final.head()"
   ]
  },
  {
   "cell_type": "code",
   "execution_count": 16,
   "metadata": {},
   "outputs": [
    {
     "name": "stdout",
     "output_type": "stream",
     "text": [
      "<class 'pandas.core.frame.DataFrame'>\n",
      "RangeIndex: 740 entries, 0 to 739\n",
      "Data columns (total 9 columns):\n",
      " #   Column            Non-Null Count  Dtype  \n",
      "---  ------            --------------  -----  \n",
      " 0   city              740 non-null    string \n",
      " 1   hotel_name        740 non-null    string \n",
      " 2   hotel_prices      740 non-null    float64\n",
      " 3   rating            733 non-null    float64\n",
      " 4   number of review  733 non-null    float64\n",
      " 5   hotel_link        740 non-null    string \n",
      " 6   hotel_address     687 non-null    string \n",
      " 7   latitude          687 non-null    float64\n",
      " 8   longitude         687 non-null    float64\n",
      "dtypes: float64(5), string(4)\n",
      "memory usage: 52.2 KB\n"
     ]
    }
   ],
   "source": [
    "hotel_deal_merged_final.info()"
   ]
  },
  {
   "cell_type": "markdown",
   "metadata": {},
   "source": [
    "#### b. Transform data from APIs"
   ]
  },
  {
   "cell_type": "code",
   "execution_count": 17,
   "metadata": {},
   "outputs": [
    {
     "name": "stdout",
     "output_type": "stream",
     "text": [
      "<class 'pandas.core.frame.DataFrame'>\n",
      "RangeIndex: 34 entries, 0 to 33\n",
      "Data columns (total 3 columns):\n",
      " #   Column     Non-Null Count  Dtype  \n",
      "---  ------     --------------  -----  \n",
      " 0   city       34 non-null     string \n",
      " 1   latitude   34 non-null     float64\n",
      " 2   longitude  34 non-null     float64\n",
      "dtypes: float64(2), string(1)\n",
      "memory usage: 948.0 bytes\n"
     ]
    }
   ],
   "source": [
    "coordinates_df=pd.read_csv('./extracted_data/coordinates_df.csv')\n",
    "coordinates_df['city']=coordinates_df['city'].astype('string')\n",
    "coordinates_df.info()"
   ]
  },
  {
   "cell_type": "code",
   "execution_count": 18,
   "metadata": {},
   "outputs": [
    {
     "name": "stdout",
     "output_type": "stream",
     "text": [
      "<class 'pandas.core.frame.DataFrame'>\n",
      "RangeIndex: 1360 entries, 0 to 1359\n",
      "Data columns (total 9 columns):\n",
      " #   Column        Non-Null Count  Dtype  \n",
      "---  ------        --------------  -----  \n",
      " 0   city          1360 non-null   string \n",
      " 1   latitude      1360 non-null   float64\n",
      " 2   longitude     1360 non-null   float64\n",
      " 3   timepoint     1360 non-null   int64  \n",
      " 4   main_weather  1360 non-null   object \n",
      " 5   feels_like    1360 non-null   float64\n",
      " 6   humidity      1360 non-null   int64  \n",
      " 7   wind_speed    1360 non-null   float64\n",
      " 8   city_id       1360 non-null   int64  \n",
      "dtypes: float64(4), int64(3), object(1), string(1)\n",
      "memory usage: 95.8+ KB\n"
     ]
    }
   ],
   "source": [
    "forecast_weather_5days_df=pd.read_csv('./extracted_data/forecast_weather_5daysdf.csv')\n",
    "forecast_weather_5days_df['city']=forecast_weather_5days_df['city'].astype('string')\n",
    "forecast_weather_5days_df.info()"
   ]
  },
  {
   "cell_type": "code",
   "execution_count": 19,
   "metadata": {},
   "outputs": [
    {
     "name": "stdout",
     "output_type": "stream",
     "text": [
      "                  latitude  longitude     timepoint  feels_like  humidity  \\\n",
      "city                                                                        \n",
      "Aigues Mortes    43.565823   4.191284  1.719646e+09    23.10575    73.100   \n",
      "Aix en Provence  43.529842   5.447474  1.719646e+09    26.01450    53.200   \n",
      "Amiens           49.894171   2.295695  1.719646e+09    16.95475    75.400   \n",
      "Annecy           45.899235   6.128885  1.719646e+09    22.61425    77.825   \n",
      "Ariège           42.845802   1.606759  1.719646e+09    22.70450    78.900   \n",
      "\n",
      "                 wind_speed  city_id     main_weather  \n",
      "city                                                   \n",
      "Aigues Mortes       3.23625      1.0        clear sky  \n",
      "Aix en Provence     3.29375      2.0        clear sky  \n",
      "Amiens              3.77450      3.0  overcast clouds  \n",
      "Annecy              1.47300      4.0       light rain  \n",
      "Ariège              1.89475      5.0       light rain  \n"
     ]
    }
   ],
   "source": [
    "# Select numerical columns for calculation TRANSFORM\n",
    "numerical_columns = forecast_weather_5days_df.select_dtypes(include=(float, int)).columns\n",
    "\n",
    "# Calculate average numerical values by city\n",
    "avg_numerical = forecast_weather_5days_df.groupby('city')[numerical_columns].mean()\n",
    "\n",
    "# Calculate mode of 'main_weather' by city\n",
    "avg_categorical = forecast_weather_5days_df.groupby('city')['main_weather'].agg(lambda x: x.mode().iloc[0])\n",
    "\n",
    "# Create DataFrame for categorical data\n",
    "avg_categorical_df = pd.DataFrame(avg_categorical, columns=[\"main_weather\"])\n",
    "\n",
    "# Join the DataFrames on the 'city' column\n",
    "avg_forecast_weather_34cities_5days_df = avg_numerical.join(avg_categorical_df)\n",
    "\n",
    "# Print the resulting DataFrame\n",
    "print(avg_forecast_weather_34cities_5days_df.head())"
   ]
  },
  {
   "cell_type": "code",
   "execution_count": 20,
   "metadata": {},
   "outputs": [],
   "source": [
    "# Transform the categorical variable main_weather into numerical\n",
    "\n",
    "# We assign each value to a number (in a logical order)\n",
    "main_weather_importance = {'clear sky': 5, 'few clouds': 4, 'scattered clouds': 3, 'broken clouds': 2, 'light rain': 1}\n",
    "\n",
    "# Creation of an additionnal column to enter those scores\n",
    "avg_forecast_weather_34cities_5days_df['main_weather_scores'] = avg_forecast_weather_34cities_5days_df['main_weather'].map(main_weather_importance)\n",
    "\n",
    "# Conversion of this column into numerical\n",
    "avg_forecast_weather_34cities_5days_df['main_weather_scores'] = pd.to_numeric(avg_forecast_weather_34cities_5days_df['main_weather_scores'], errors='coerce')"
   ]
  },
  {
   "cell_type": "code",
   "execution_count": 21,
   "metadata": {},
   "outputs": [
    {
     "data": {
      "image/png": "[encoded data removed]",
      "text/plain": [
       "<Figure size 2000x600 with 4 Axes>"
      ]
     },
     "metadata": {},
     "output_type": "display_data"
    }
   ],
   "source": [
    "# Creation of one dataframe by variable (sorted)\n",
    "top_temperature = avg_forecast_weather_34cities_5days_df.sort_values(by='feels_like', ascending=True)['feels_like']\n",
    "top_humidity = avg_forecast_weather_34cities_5days_df.sort_values(by='humidity', ascending=False)['humidity']\n",
    "top_wind = avg_forecast_weather_34cities_5days_df.sort_values(by='wind_speed', ascending=False)['wind_speed']\n",
    "top_main_weather = avg_forecast_weather_34cities_5days_df.sort_values(by='main_weather_scores', ascending=False)['main_weather_scores']\n",
    "\n",
    "# Figure with subplots\n",
    "fig, axs = plt.subplots(1, 4, figsize=(20, 6))\n",
    "\n",
    "# Subplot 1: Temperature\n",
    "axs[0].barh(top_temperature.index, top_temperature)\n",
    "axs[0].set_title('Temperature feels like (°C)')\n",
    "\n",
    "# Subplot 2: Humidity\n",
    "axs[1].barh(top_humidity.index, top_humidity)\n",
    "axs[1].set_title('Humidity')\n",
    "\n",
    "# Subplot 3: Wind Speed\n",
    "axs[2].barh(top_wind.index, top_wind)\n",
    "axs[2].set_title('Wind Speed')\n",
    "\n",
    "# # Subplot 4: Main Weather\n",
    "unique_main_weather = avg_forecast_weather_34cities_5days_df['main_weather'].unique()\n",
    "axs[3].scatter(top_main_weather, top_main_weather.index)\n",
    "axs[3].set_xticks(range(1, len(unique_main_weather) + 1))\n",
    "axs[3].set_xticklabels(unique_main_weather, rotation=45)\n",
    "axs[3].set_title('Main Weather by City')\n",
    "\n",
    "plt.tight_layout()\n",
    "plt.show()\n"
   ]
  },
  {
   "cell_type": "code",
   "execution_count": 31,
   "metadata": {},
   "outputs": [],
   "source": [
    "weights = {\n",
    "    'wind_speed': 5,\n",
    "    'main_weather_scores': 10,\n",
    "    'humidity': 2,\n",
    "    'feels_like': 10\n",
    "}\n",
    "\n",
    "\n",
    "# We calculate a score for each city\n",
    "avg_forecast_weather_34cities_5days_df['final_score'] = round(\n",
    "    avg_forecast_weather_34cities_5days_df['wind_speed'] * weights['wind_speed'] +\n",
    "    avg_forecast_weather_34cities_5days_df['main_weather_scores'] * weights['main_weather_scores'] +\n",
    "    avg_forecast_weather_34cities_5days_df['humidity'] * weights['humidity'] +\n",
    "    avg_forecast_weather_34cities_5days_df['feels_like'] * weights['feels_like']\n",
    ")\n",
    "\n",
    "avg_forecast_weather_34cities_5days_df.reset_index(inplace=True)"
   ]
  },
  {
   "cell_type": "code",
   "execution_count": 32,
   "metadata": {},
   "outputs": [
    {
     "data": {
      "text/html": [
       "<div>\n",
       "<style scoped>\n",
       "    .dataframe tbody tr th:only-of-type {\n",
       "        vertical-align: middle;\n",
       "    }\n",
       "\n",
       "    .dataframe tbody tr th {\n",
       "        vertical-align: top;\n",
       "    }\n",
       "\n",
       "    .dataframe thead th {\n",
       "        text-align: right;\n",
       "    }\n",
       "</style>\n",
       "<table border=\"1\" class=\"dataframe\">\n",
       "  <thead>\n",
       "    <tr style=\"text-align: right;\">\n",
       "      <th></th>\n",
       "      <th>city</th>\n",
       "      <th>latitude</th>\n",
       "      <th>longitude</th>\n",
       "      <th>timepoint</th>\n",
       "      <th>feels_like</th>\n",
       "      <th>humidity</th>\n",
       "      <th>wind_speed</th>\n",
       "      <th>city_id</th>\n",
       "      <th>main_weather</th>\n",
       "      <th>main_weather_scores</th>\n",
       "      <th>final_score</th>\n",
       "    </tr>\n",
       "  </thead>\n",
       "  <tbody>\n",
       "    <tr>\n",
       "      <th>0</th>\n",
       "      <td>Aigues Mortes</td>\n",
       "      <td>43.565823</td>\n",
       "      <td>4.191284</td>\n",
       "      <td>1.719646e+09</td>\n",
       "      <td>23.10575</td>\n",
       "      <td>73.100</td>\n",
       "      <td>3.23625</td>\n",
       "      <td>1.0</td>\n",
       "      <td>clear sky</td>\n",
       "      <td>5.0</td>\n",
       "      <td>443.0</td>\n",
       "    </tr>\n",
       "    <tr>\n",
       "      <th>1</th>\n",
       "      <td>Aix en Provence</td>\n",
       "      <td>43.529842</td>\n",
       "      <td>5.447474</td>\n",
       "      <td>1.719646e+09</td>\n",
       "      <td>26.01450</td>\n",
       "      <td>53.200</td>\n",
       "      <td>3.29375</td>\n",
       "      <td>2.0</td>\n",
       "      <td>clear sky</td>\n",
       "      <td>5.0</td>\n",
       "      <td>433.0</td>\n",
       "    </tr>\n",
       "    <tr>\n",
       "      <th>2</th>\n",
       "      <td>Amiens</td>\n",
       "      <td>49.894171</td>\n",
       "      <td>2.295695</td>\n",
       "      <td>1.719646e+09</td>\n",
       "      <td>16.95475</td>\n",
       "      <td>75.400</td>\n",
       "      <td>3.77450</td>\n",
       "      <td>3.0</td>\n",
       "      <td>overcast clouds</td>\n",
       "      <td>NaN</td>\n",
       "      <td>NaN</td>\n",
       "    </tr>\n",
       "    <tr>\n",
       "      <th>3</th>\n",
       "      <td>Annecy</td>\n",
       "      <td>45.899235</td>\n",
       "      <td>6.128885</td>\n",
       "      <td>1.719646e+09</td>\n",
       "      <td>22.61425</td>\n",
       "      <td>77.825</td>\n",
       "      <td>1.47300</td>\n",
       "      <td>4.0</td>\n",
       "      <td>light rain</td>\n",
       "      <td>1.0</td>\n",
       "      <td>399.0</td>\n",
       "    </tr>\n",
       "    <tr>\n",
       "      <th>4</th>\n",
       "      <td>Ariège</td>\n",
       "      <td>42.845802</td>\n",
       "      <td>1.606759</td>\n",
       "      <td>1.719646e+09</td>\n",
       "      <td>22.70450</td>\n",
       "      <td>78.900</td>\n",
       "      <td>1.89475</td>\n",
       "      <td>5.0</td>\n",
       "      <td>light rain</td>\n",
       "      <td>1.0</td>\n",
       "      <td>404.0</td>\n",
       "    </tr>\n",
       "  </tbody>\n",
       "</table>\n",
       "</div>"
      ],
      "text/plain": [
       "              city   latitude  longitude     timepoint  feels_like  humidity  \\\n",
       "0    Aigues Mortes  43.565823   4.191284  1.719646e+09    23.10575    73.100   \n",
       "1  Aix en Provence  43.529842   5.447474  1.719646e+09    26.01450    53.200   \n",
       "2           Amiens  49.894171   2.295695  1.719646e+09    16.95475    75.400   \n",
       "3           Annecy  45.899235   6.128885  1.719646e+09    22.61425    77.825   \n",
       "4           Ariège  42.845802   1.606759  1.719646e+09    22.70450    78.900   \n",
       "\n",
       "   wind_speed  city_id     main_weather  main_weather_scores  final_score  \n",
       "0     3.23625      1.0        clear sky                  5.0        443.0  \n",
       "1     3.29375      2.0        clear sky                  5.0        433.0  \n",
       "2     3.77450      3.0  overcast clouds                  NaN          NaN  \n",
       "3     1.47300      4.0       light rain                  1.0        399.0  \n",
       "4     1.89475      5.0       light rain                  1.0        404.0  "
      ]
     },
     "execution_count": 32,
     "metadata": {},
     "output_type": "execute_result"
    }
   ],
   "source": [
    "avg_forecast_weather_34cities_5days_df.head()"
   ]
  },
  {
   "cell_type": "code",
   "execution_count": 33,
   "metadata": {},
   "outputs": [
    {
     "data": {
      "text/plain": [
       "Index(['city', 'latitude', 'longitude', 'timepoint', 'feels_like', 'humidity',\n",
       "       'wind_speed', 'city_id', 'main_weather', 'main_weather_scores',\n",
       "       'final_score'],\n",
       "      dtype='object')"
      ]
     },
     "execution_count": 33,
     "metadata": {},
     "output_type": "execute_result"
    }
   ],
   "source": [
    "avg_forecast_weather_34cities_5days_df.columns"
   ]
  },
  {
   "cell_type": "code",
   "execution_count": 34,
   "metadata": {},
   "outputs": [
    {
     "data": {
      "text/html": [
       "<div>\n",
       "<style scoped>\n",
       "    .dataframe tbody tr th:only-of-type {\n",
       "        vertical-align: middle;\n",
       "    }\n",
       "\n",
       "    .dataframe tbody tr th {\n",
       "        vertical-align: top;\n",
       "    }\n",
       "\n",
       "    .dataframe thead th {\n",
       "        text-align: right;\n",
       "    }\n",
       "</style>\n",
       "<table border=\"1\" class=\"dataframe\">\n",
       "  <thead>\n",
       "    <tr style=\"text-align: right;\">\n",
       "      <th></th>\n",
       "      <th>city</th>\n",
       "      <th>hotel_name</th>\n",
       "      <th>hotel_prices</th>\n",
       "      <th>rating</th>\n",
       "      <th>number of review</th>\n",
       "      <th>hotel_link</th>\n",
       "      <th>hotel_address</th>\n",
       "      <th>latitude</th>\n",
       "      <th>longitude</th>\n",
       "    </tr>\n",
       "  </thead>\n",
       "  <tbody>\n",
       "    <tr>\n",
       "      <th>0</th>\n",
       "      <td>Amiens</td>\n",
       "      <td>Appart'City Confort Amiens Gare</td>\n",
       "      <td>930.0</td>\n",
       "      <td>7.6</td>\n",
       "      <td>1743.0</td>\n",
       "      <td>https://www.booking.com/hotel/fr/appart-city-a...</td>\n",
       "      <td>80, boulevard d'Alsace-Lorraine, 80000 Amiens,...</td>\n",
       "      <td>49.894316</td>\n",
       "      <td>2.309761</td>\n",
       "    </tr>\n",
       "    <tr>\n",
       "      <th>1</th>\n",
       "      <td>Amiens</td>\n",
       "      <td>The Nest</td>\n",
       "      <td>973.0</td>\n",
       "      <td>8.2</td>\n",
       "      <td>137.0</td>\n",
       "      <td>https://www.booking.com/hotel/fr/the-nest-amie...</td>\n",
       "      <td>37 Boulevard Maignan Larivière, 80000 Amiens, ...</td>\n",
       "      <td>49.889307</td>\n",
       "      <td>2.294634</td>\n",
       "    </tr>\n",
       "    <tr>\n",
       "      <th>2</th>\n",
       "      <td>Amiens</td>\n",
       "      <td>Nemea Appart Hotel Coliseum Amiens Centre</td>\n",
       "      <td>1029.0</td>\n",
       "      <td>8.6</td>\n",
       "      <td>332.0</td>\n",
       "      <td>https://www.booking.com/hotel/fr/nemea-appart-...</td>\n",
       "      <td>25 Rue Frédéric Petit, 80000 Amiens, France</td>\n",
       "      <td>49.892175</td>\n",
       "      <td>2.288935</td>\n",
       "    </tr>\n",
       "    <tr>\n",
       "      <th>3</th>\n",
       "      <td>Amiens</td>\n",
       "      <td>Odalys City Amiens Blamont</td>\n",
       "      <td>1074.0</td>\n",
       "      <td>8.0</td>\n",
       "      <td>1817.0</td>\n",
       "      <td>https://www.booking.com/hotel/fr/appart-39-oda...</td>\n",
       "      <td>25 rue du Blamont, 80000 Amiens, France</td>\n",
       "      <td>49.887148</td>\n",
       "      <td>2.311611</td>\n",
       "    </tr>\n",
       "    <tr>\n",
       "      <th>4</th>\n",
       "      <td>Amiens</td>\n",
       "      <td>Le Saint Louis</td>\n",
       "      <td>1078.0</td>\n",
       "      <td>8.1</td>\n",
       "      <td>1336.0</td>\n",
       "      <td>https://www.booking.com/hotel/fr/le-saint-loui...</td>\n",
       "      <td>24 Rue Des Otages, 80000 Amiens, France</td>\n",
       "      <td>49.889779</td>\n",
       "      <td>2.302499</td>\n",
       "    </tr>\n",
       "  </tbody>\n",
       "</table>\n",
       "</div>"
      ],
      "text/plain": [
       "     city                                 hotel_name  hotel_prices  rating  \\\n",
       "0  Amiens            Appart'City Confort Amiens Gare         930.0     7.6   \n",
       "1  Amiens                                   The Nest         973.0     8.2   \n",
       "2  Amiens  Nemea Appart Hotel Coliseum Amiens Centre        1029.0     8.6   \n",
       "3  Amiens                 Odalys City Amiens Blamont        1074.0     8.0   \n",
       "4  Amiens                             Le Saint Louis        1078.0     8.1   \n",
       "\n",
       "   number of review                                         hotel_link  \\\n",
       "0            1743.0  https://www.booking.com/hotel/fr/appart-city-a...   \n",
       "1             137.0  https://www.booking.com/hotel/fr/the-nest-amie...   \n",
       "2             332.0  https://www.booking.com/hotel/fr/nemea-appart-...   \n",
       "3            1817.0  https://www.booking.com/hotel/fr/appart-39-oda...   \n",
       "4            1336.0  https://www.booking.com/hotel/fr/le-saint-loui...   \n",
       "\n",
       "                                       hotel_address   latitude  longitude  \n",
       "0  80, boulevard d'Alsace-Lorraine, 80000 Amiens,...  49.894316   2.309761  \n",
       "1  37 Boulevard Maignan Larivière, 80000 Amiens, ...  49.889307   2.294634  \n",
       "2        25 Rue Frédéric Petit, 80000 Amiens, France  49.892175   2.288935  \n",
       "3            25 rue du Blamont, 80000 Amiens, France  49.887148   2.311611  \n",
       "4            24 Rue Des Otages, 80000 Amiens, France  49.889779   2.302499  "
      ]
     },
     "execution_count": 34,
     "metadata": {},
     "output_type": "execute_result"
    }
   ],
   "source": [
    "hotel_deal_merged_final.head()"
   ]
  },
  {
   "cell_type": "code",
   "execution_count": 35,
   "metadata": {},
   "outputs": [
    {
     "data": {
      "text/plain": [
       "Index(['city', 'hotel_name', 'hotel_prices', 'rating', 'number of review',\n",
       "       'hotel_link', 'hotel_address', 'latitude', 'longitude'],\n",
       "      dtype='object')"
      ]
     },
     "execution_count": 35,
     "metadata": {},
     "output_type": "execute_result"
    }
   ],
   "source": [
    "hotel_deal_merged_final.columns"
   ]
  },
  {
   "cell_type": "code",
   "execution_count": 36,
   "metadata": {},
   "outputs": [
    {
     "name": "stdout",
     "output_type": "stream",
     "text": [
      "34\n"
     ]
    }
   ],
   "source": [
    "print(len(avg_forecast_weather_34cities_5days_df))"
   ]
  },
  {
   "cell_type": "markdown",
   "metadata": {},
   "source": [
    "#### III. Load the data into Sqlite database"
   ]
  },
  {
   "cell_type": "code",
   "execution_count": 37,
   "metadata": {},
   "outputs": [
    {
     "name": "stdout",
     "output_type": "stream",
     "text": [
      "SQLite database and table created successfully.\n"
     ]
    }
   ],
   "source": [
    "import sqlite3\n",
    "\n",
    "# Connect to the SQLite database (or create it if it doesn't exist)\n",
    "conn = sqlite3.connect('weather_data.db')\n",
    "\n",
    "# Create a cursor object\n",
    "cursor = conn.cursor()\n",
    "\n",
    "# Define your table creation SQL\n",
    "create_table_sql = '''\n",
    "CREATE TABLE IF NOT EXISTS weather_data (\n",
    "    city TEXT,\n",
    "    latitude REAL,\n",
    "    longitude REAL,\n",
    "    timepoint TEXT,\n",
    "    feels_like REAL,\n",
    "    humidity INTEGER,\n",
    "    wind_speed REAL,\n",
    "    city_id INTEGER,\n",
    "    main_weather TEXT,\n",
    "    main_weather_scores REAL,\n",
    "    final_score REAL\n",
    ");\n",
    "'''\n",
    "\n",
    "# Execute the SQL to create the table\n",
    "cursor.execute(create_table_sql)\n",
    "\n",
    "# Commit the changes and close the connection\n",
    "conn.commit()\n",
    "conn.close()\n",
    "\n",
    "print(\"SQLite database and table created successfully.\")\n"
   ]
  },
  {
   "cell_type": "code",
   "execution_count": 38,
   "metadata": {},
   "outputs": [
    {
     "name": "stdout",
     "output_type": "stream",
     "text": [
      "Data inserted into SQLite table successfully.\n"
     ]
    }
   ],
   "source": [
    "# Connect to the SQLite database\n",
    "conn = sqlite3.connect('weather_data.db')\n",
    "\n",
    "# Insert DataFrame records into the SQLite table\n",
    "avg_forecast_weather_34cities_5days_df.to_sql('weather_data', conn, if_exists='replace', index=False)\n",
    "\n",
    "# Commit the changes and close the connection\n",
    "conn.commit()\n",
    "conn.close()\n",
    "\n",
    "print(\"Data inserted into SQLite table successfully.\")\n"
   ]
  },
  {
   "cell_type": "code",
   "execution_count": 48,
   "metadata": {},
   "outputs": [],
   "source": [
    "# Connect to the SQLite database\n",
    "conn = sqlite3.connect('weather_data.db')\n",
    "\n",
    "# Create a cursor object\n",
    "cursor = conn.cursor()\n",
    "\n",
    "# SQL query to select top 5 cities by final_score in descending order\n",
    "query = '''\n",
    "SELECT *\n",
    "FROM weather_data\n",
    "ORDER BY final_score DESC\n",
    "LIMIT 5\n",
    "'''\n",
    "\n",
    "# Execute the query\n",
    "cursor.execute(query)\n",
    "\n",
    "# Fetch all rows from the executed query\n",
    "top_5_cities_df = pd.read_sql(query, conn)\n",
    "\n",
    "\n",
    "# Close the connection\n",
    "conn.close()\n"
   ]
  },
  {
   "cell_type": "code",
   "execution_count": 49,
   "metadata": {},
   "outputs": [
    {
     "data": {
      "application/vnd.plotly.v1+json": {
       "config": {
        "plotlyServerURL": "https://plot.ly"
       },
       "data": [
        {
         "customdata": [
          [
           5.04275,
           "clear sky",
           24.0025,
           68.55
          ],
          [
           4.2645,
           "clear sky",
           25.12525,
           62.6
          ],
          [
           3.2362499999999996,
           "clear sky",
           23.10575,
           73.1
          ],
          [
           4.90175,
           "clear sky",
           23.14825,
           68.6
          ],
          [
           3.25025,
           "clear sky",
           24.146250000000002,
           66.675
          ]
         ],
         "hovertemplate": "<b>%{hovertext}</b><br><br>feels_like=%{customdata[2]}<br>latitude=%{lat}<br>longitude=%{lon}<br>wind_speed=%{marker.color}<br>main_weather=%{customdata[1]}<br>humidity=%{customdata[3]}<extra></extra>",
         "hovertext": [
          "Marseille",
          "Avignon",
          "Aigues Mortes",
          "Cassis",
          "Uzes"
         ],
         "lat": [
          43.2961743,
          43.9492493,
          43.5658225,
          43.2140359,
          44.0121279
         ],
         "legendgroup": "",
         "lon": [
          5.3699525,
          4.8059012,
          4.1912837,
          5.5396318,
          4.4196718
         ],
         "marker": {
          "color": [
           5.04275,
           4.2645,
           3.2362499999999996,
           4.90175,
           3.25025
          ],
          "coloraxis": "coloraxis",
          "size": [
           24.0025,
           25.12525,
           23.10575,
           23.14825,
           24.146250000000002
          ],
          "sizemode": "area",
          "sizeref": 0.062813125
         },
         "mode": "markers",
         "name": "",
         "showlegend": false,
         "subplot": "mapbox",
         "type": "scattermapbox"
        }
       ],
       "layout": {
        "coloraxis": {
         "colorbar": {
          "title": {
           "text": "wind_speed"
          }
         },
         "colorscale": [
          [
           0,
           "#0d0887"
          ],
          [
           0.1111111111111111,
           "#46039f"
          ],
          [
           0.2222222222222222,
           "#7201a8"
          ],
          [
           0.3333333333333333,
           "#9c179e"
          ],
          [
           0.4444444444444444,
           "#bd3786"
          ],
          [
           0.5555555555555556,
           "#d8576b"
          ],
          [
           0.6666666666666666,
           "#ed7953"
          ],
          [
           0.7777777777777778,
           "#fb9f3a"
          ],
          [
           0.8888888888888888,
           "#fdca26"
          ],
          [
           1,
           "#f0f921"
          ]
         ]
        },
        "legend": {
         "itemsizing": "constant",
         "tracegroupgap": 0
        },
        "mapbox": {
         "center": {
          "lat": 43.60748198,
          "lon": 4.8652882
         },
         "domain": {
          "x": [
           0,
           1
          ],
          "y": [
           0,
           1
          ]
         },
         "style": "open-street-map",
         "zoom": 5
        },
        "template": {
         "data": {
          "bar": [
           {
            "error_x": {
             "color": "#2a3f5f"
            },
            "error_y": {
             "color": "#2a3f5f"
            },
            "marker": {
             "line": {
              "color": "#E5ECF6",
              "width": 0.5
             },
             "pattern": {
              "fillmode": "overlay",
              "size": 10,
              "solidity": 0.2
             }
            },
            "type": "bar"
           }
          ],
          "barpolar": [
           {
            "marker": {
             "line": {
              "color": "#E5ECF6",
              "width": 0.5
             },
             "pattern": {
              "fillmode": "overlay",
              "size": 10,
              "solidity": 0.2
             }
            },
            "type": "barpolar"
           }
          ],
          "carpet": [
           {
            "aaxis": {
             "endlinecolor": "#2a3f5f",
             "gridcolor": "white",
             "linecolor": "white",
             "minorgridcolor": "white",
             "startlinecolor": "#2a3f5f"
            },
            "baxis": {
             "endlinecolor": "#2a3f5f",
             "gridcolor": "white",
             "linecolor": "white",
             "minorgridcolor": "white",
             "startlinecolor": "#2a3f5f"
            },
            "type": "carpet"
           }
          ],
          "choropleth": [
           {
            "colorbar": {
             "outlinewidth": 0,
             "ticks": ""
            },
            "type": "choropleth"
           }
          ],
          "contour": [
           {
            "colorbar": {
             "outlinewidth": 0,
             "ticks": ""
            },
            "colorscale": [
             [
              0,
              "#0d0887"
             ],
             [
              0.1111111111111111,
              "#46039f"
             ],
             [
              0.2222222222222222,
              "#7201a8"
             ],
             [
              0.3333333333333333,
              "#9c179e"
             ],
             [
              0.4444444444444444,
              "#bd3786"
             ],
             [
              0.5555555555555556,
              "#d8576b"
             ],
             [
              0.6666666666666666,
              "#ed7953"
             ],
             [
              0.7777777777777778,
              "#fb9f3a"
             ],
             [
              0.8888888888888888,
              "#fdca26"
             ],
             [
              1,
              "#f0f921"
             ]
            ],
            "type": "contour"
           }
          ],
          "contourcarpet": [
           {
            "colorbar": {
             "outlinewidth": 0,
             "ticks": ""
            },
            "type": "contourcarpet"
           }
          ],
          "heatmap": [
           {
            "colorbar": {
             "outlinewidth": 0,
             "ticks": ""
            },
            "colorscale": [
             [
              0,
              "#0d0887"
             ],
             [
              0.1111111111111111,
              "#46039f"
             ],
             [
              0.2222222222222222,
              "#7201a8"
             ],
             [
              0.3333333333333333,
              "#9c179e"
             ],
             [
              0.4444444444444444,
              "#bd3786"
             ],
             [
              0.5555555555555556,
              "#d8576b"
             ],
             [
              0.6666666666666666,
              "#ed7953"
             ],
             [
              0.7777777777777778,
              "#fb9f3a"
             ],
             [
              0.8888888888888888,
              "#fdca26"
             ],
             [
              1,
              "#f0f921"
             ]
            ],
            "type": "heatmap"
           }
          ],
          "heatmapgl": [
           {
            "colorbar": {
             "outlinewidth": 0,
             "ticks": ""
            },
            "colorscale": [
             [
              0,
              "#0d0887"
             ],
             [
              0.1111111111111111,
              "#46039f"
             ],
             [
              0.2222222222222222,
              "#7201a8"
             ],
             [
              0.3333333333333333,
              "#9c179e"
             ],
             [
              0.4444444444444444,
              "#bd3786"
             ],
             [
              0.5555555555555556,
              "#d8576b"
             ],
             [
              0.6666666666666666,
              "#ed7953"
             ],
             [
              0.7777777777777778,
              "#fb9f3a"
             ],
             [
              0.8888888888888888,
              "#fdca26"
             ],
             [
              1,
              "#f0f921"
             ]
            ],
            "type": "heatmapgl"
           }
          ],
          "histogram": [
           {
            "marker": {
             "pattern": {
              "fillmode": "overlay",
              "size": 10,
              "solidity": 0.2
             }
            },
            "type": "histogram"
           }
          ],
          "histogram2d": [
           {
            "colorbar": {
             "outlinewidth": 0,
             "ticks": ""
            },
            "colorscale": [
             [
              0,
              "#0d0887"
             ],
             [
              0.1111111111111111,
              "#46039f"
             ],
             [
              0.2222222222222222,
              "#7201a8"
             ],
             [
              0.3333333333333333,
              "#9c179e"
             ],
             [
              0.4444444444444444,
              "#bd3786"
             ],
             [
              0.5555555555555556,
              "#d8576b"
             ],
             [
              0.6666666666666666,
              "#ed7953"
             ],
             [
              0.7777777777777778,
              "#fb9f3a"
             ],
             [
              0.8888888888888888,
              "#fdca26"
             ],
             [
              1,
              "#f0f921"
             ]
            ],
            "type": "histogram2d"
           }
          ],
          "histogram2dcontour": [
           {
            "colorbar": {
             "outlinewidth": 0,
             "ticks": ""
            },
            "colorscale": [
             [
              0,
              "#0d0887"
             ],
             [
              0.1111111111111111,
              "#46039f"
             ],
             [
              0.2222222222222222,
              "#7201a8"
             ],
             [
              0.3333333333333333,
              "#9c179e"
             ],
             [
              0.4444444444444444,
              "#bd3786"
             ],
             [
              0.5555555555555556,
              "#d8576b"
             ],
             [
              0.6666666666666666,
              "#ed7953"
             ],
             [
              0.7777777777777778,
              "#fb9f3a"
             ],
             [
              0.8888888888888888,
              "#fdca26"
             ],
             [
              1,
              "#f0f921"
             ]
            ],
            "type": "histogram2dcontour"
           }
          ],
          "mesh3d": [
           {
            "colorbar": {
             "outlinewidth": 0,
             "ticks": ""
            },
            "type": "mesh3d"
           }
          ],
          "parcoords": [
           {
            "line": {
             "colorbar": {
              "outlinewidth": 0,
              "ticks": ""
             }
            },
            "type": "parcoords"
           }
          ],
          "pie": [
           {
            "automargin": true,
            "type": "pie"
           }
          ],
          "scatter": [
           {
            "fillpattern": {
             "fillmode": "overlay",
             "size": 10,
             "solidity": 0.2
            },
            "type": "scatter"
           }
          ],
          "scatter3d": [
           {
            "line": {
             "colorbar": {
              "outlinewidth": 0,
              "ticks": ""
             }
            },
            "marker": {
             "colorbar": {
              "outlinewidth": 0,
              "ticks": ""
             }
            },
            "type": "scatter3d"
           }
          ],
          "scattercarpet": [
           {
            "marker": {
             "colorbar": {
              "outlinewidth": 0,
              "ticks": ""
             }
            },
            "type": "scattercarpet"
           }
          ],
          "scattergeo": [
           {
            "marker": {
             "colorbar": {
              "outlinewidth": 0,
              "ticks": ""
             }
            },
            "type": "scattergeo"
           }
          ],
          "scattergl": [
           {
            "marker": {
             "colorbar": {
              "outlinewidth": 0,
              "ticks": ""
             }
            },
            "type": "scattergl"
           }
          ],
          "scattermapbox": [
           {
            "marker": {
             "colorbar": {
              "outlinewidth": 0,
              "ticks": ""
             }
            },
            "type": "scattermapbox"
           }
          ],
          "scatterpolar": [
           {
            "marker": {
             "colorbar": {
              "outlinewidth": 0,
              "ticks": ""
             }
            },
            "type": "scatterpolar"
           }
          ],
          "scatterpolargl": [
           {
            "marker": {
             "colorbar": {
              "outlinewidth": 0,
              "ticks": ""
             }
            },
            "type": "scatterpolargl"
           }
          ],
          "scatterternary": [
           {
            "marker": {
             "colorbar": {
              "outlinewidth": 0,
              "ticks": ""
             }
            },
            "type": "scatterternary"
           }
          ],
          "surface": [
           {
            "colorbar": {
             "outlinewidth": 0,
             "ticks": ""
            },
            "colorscale": [
             [
              0,
              "#0d0887"
             ],
             [
              0.1111111111111111,
              "#46039f"
             ],
             [
              0.2222222222222222,
              "#7201a8"
             ],
             [
              0.3333333333333333,
              "#9c179e"
             ],
             [
              0.4444444444444444,
              "#bd3786"
             ],
             [
              0.5555555555555556,
              "#d8576b"
             ],
             [
              0.6666666666666666,
              "#ed7953"
             ],
             [
              0.7777777777777778,
              "#fb9f3a"
             ],
             [
              0.8888888888888888,
              "#fdca26"
             ],
             [
              1,
              "#f0f921"
             ]
            ],
            "type": "surface"
           }
          ],
          "table": [
           {
            "cells": {
             "fill": {
              "color": "#EBF0F8"
             },
             "line": {
              "color": "white"
             }
            },
            "header": {
             "fill": {
              "color": "#C8D4E3"
             },
             "line": {
              "color": "white"
             }
            },
            "type": "table"
           }
          ]
         },
         "layout": {
          "annotationdefaults": {
           "arrowcolor": "#2a3f5f",
           "arrowhead": 0,
           "arrowwidth": 1
          },
          "autotypenumbers": "strict",
          "coloraxis": {
           "colorbar": {
            "outlinewidth": 0,
            "ticks": ""
           }
          },
          "colorscale": {
           "diverging": [
            [
             0,
             "#8e0152"
            ],
            [
             0.1,
             "#c51b7d"
            ],
            [
             0.2,
             "#de77ae"
            ],
            [
             0.3,
             "#f1b6da"
            ],
            [
             0.4,
             "#fde0ef"
            ],
            [
             0.5,
             "#f7f7f7"
            ],
            [
             0.6,
             "#e6f5d0"
            ],
            [
             0.7,
             "#b8e186"
            ],
            [
             0.8,
             "#7fbc41"
            ],
            [
             0.9,
             "#4d9221"
            ],
            [
             1,
             "#276419"
            ]
           ],
           "sequential": [
            [
             0,
             "#0d0887"
            ],
            [
             0.1111111111111111,
             "#46039f"
            ],
            [
             0.2222222222222222,
             "#7201a8"
            ],
            [
             0.3333333333333333,
             "#9c179e"
            ],
            [
             0.4444444444444444,
             "#bd3786"
            ],
            [
             0.5555555555555556,
             "#d8576b"
            ],
            [
             0.6666666666666666,
             "#ed7953"
            ],
            [
             0.7777777777777778,
             "#fb9f3a"
            ],
            [
             0.8888888888888888,
             "#fdca26"
            ],
            [
             1,
             "#f0f921"
            ]
           ],
           "sequentialminus": [
            [
             0,
             "#0d0887"
            ],
            [
             0.1111111111111111,
             "#46039f"
            ],
            [
             0.2222222222222222,
             "#7201a8"
            ],
            [
             0.3333333333333333,
             "#9c179e"
            ],
            [
             0.4444444444444444,
             "#bd3786"
            ],
            [
             0.5555555555555556,
             "#d8576b"
            ],
            [
             0.6666666666666666,
             "#ed7953"
            ],
            [
             0.7777777777777778,
             "#fb9f3a"
            ],
            [
             0.8888888888888888,
             "#fdca26"
            ],
            [
             1,
             "#f0f921"
            ]
           ]
          },
          "colorway": [
           "#636efa",
           "#EF553B",
           "#00cc96",
           "#ab63fa",
           "#FFA15A",
           "#19d3f3",
           "#FF6692",
           "#B6E880",
           "#FF97FF",
           "#FECB52"
          ],
          "font": {
           "color": "#2a3f5f"
          },
          "geo": {
           "bgcolor": "white",
           "lakecolor": "white",
           "landcolor": "#E5ECF6",
           "showlakes": true,
           "showland": true,
           "subunitcolor": "white"
          },
          "hoverlabel": {
           "align": "left"
          },
          "hovermode": "closest",
          "mapbox": {
           "style": "light"
          },
          "paper_bgcolor": "white",
          "plot_bgcolor": "#E5ECF6",
          "polar": {
           "angularaxis": {
            "gridcolor": "white",
            "linecolor": "white",
            "ticks": ""
           },
           "bgcolor": "#E5ECF6",
           "radialaxis": {
            "gridcolor": "white",
            "linecolor": "white",
            "ticks": ""
           }
          },
          "scene": {
           "xaxis": {
            "backgroundcolor": "#E5ECF6",
            "gridcolor": "white",
            "gridwidth": 2,
            "linecolor": "white",
            "showbackground": true,
            "ticks": "",
            "zerolinecolor": "white"
           },
           "yaxis": {
            "backgroundcolor": "#E5ECF6",
            "gridcolor": "white",
            "gridwidth": 2,
            "linecolor": "white",
            "showbackground": true,
            "ticks": "",
            "zerolinecolor": "white"
           },
           "zaxis": {
            "backgroundcolor": "#E5ECF6",
            "gridcolor": "white",
            "gridwidth": 2,
            "linecolor": "white",
            "showbackground": true,
            "ticks": "",
            "zerolinecolor": "white"
           }
          },
          "shapedefaults": {
           "line": {
            "color": "#2a3f5f"
           }
          },
          "ternary": {
           "aaxis": {
            "gridcolor": "white",
            "linecolor": "white",
            "ticks": ""
           },
           "baxis": {
            "gridcolor": "white",
            "linecolor": "white",
            "ticks": ""
           },
           "bgcolor": "#E5ECF6",
           "caxis": {
            "gridcolor": "white",
            "linecolor": "white",
            "ticks": ""
           }
          },
          "title": {
           "x": 0.05
          },
          "xaxis": {
           "automargin": true,
           "gridcolor": "white",
           "linecolor": "white",
           "ticks": "",
           "title": {
            "standoff": 15
           },
           "zerolinecolor": "white",
           "zerolinewidth": 2
          },
          "yaxis": {
           "automargin": true,
           "gridcolor": "white",
           "linecolor": "white",
           "ticks": "",
           "title": {
            "standoff": 15
           },
           "zerolinecolor": "white",
           "zerolinewidth": 2
          }
         }
        },
        "title": {
         "text": "Top 5 cities for our holidays"
        }
       }
      }
     },
     "metadata": {},
     "output_type": "display_data"
    }
   ],
   "source": [
    "\n",
    "fig = px.scatter_mapbox(\n",
    "    top_5_cities_df,\n",
    "    title=\"Top 5 cities for our holidays\",\n",
    "    lat=\"latitude\",\n",
    "    lon=\"longitude\",\n",
    "    color=\"wind_speed\",\n",
    "    size=\"feels_like\",\n",
    "    zoom=5,\n",
    "    mapbox_style=\"open-street-map\",\n",
    "    hover_name=top_5_cities_df['city'],\n",
    "    hover_data = ['wind_speed', 'main_weather','feels_like','humidity'],\n",
    ")\n",
    "\n",
    "fig.show()"
   ]
  },
  {
   "cell_type": "markdown",
   "metadata": {},
   "source": [
    "##### According to the criteria we define, we have our top 5 cities to plan our trip. However we still need to find the best hotel deals"
   ]
  },
  {
   "cell_type": "code",
   "execution_count": 53,
   "metadata": {},
   "outputs": [],
   "source": [
    "# Connect to the database (or create it if it doesn't exist)\n",
    "conn = sqlite3.connect('best_hotels_deals.db')\n",
    "\n",
    "# Create a cursor object\n",
    "cursor = conn.cursor()\n",
    "\n",
    "# Create a table\n",
    "cursor.execute('''\n",
    "CREATE TABLE IF NOT EXISTS all_cities_info_deals (\n",
    "    city TEXT,\n",
    "    hotel_name TEXT,\n",
    "    hotel_prices INTEGER,\n",
    "    rating REAL,\n",
    "    number_of_review INTEGER,\n",
    "    hotel_link TEXT,\n",
    "    hotel_address TEXT,\n",
    "    latitude REAL,\n",
    "    longitude REAL\n",
    ")\n",
    "''')\n",
    "\n",
    "# Commit the changes and close the connection\n",
    "conn.commit()\n",
    "conn.close()\n"
   ]
  },
  {
   "cell_type": "code",
   "execution_count": 54,
   "metadata": {},
   "outputs": [
    {
     "data": {
      "text/plain": [
       "0        Marseille\n",
       "1          Avignon\n",
       "2    Aigues Mortes\n",
       "3           Cassis\n",
       "4             Uzes\n",
       "Name: city, dtype: object"
      ]
     },
     "execution_count": 54,
     "metadata": {},
     "output_type": "execute_result"
    }
   ],
   "source": [
    "top_5_cities_df['city']"
   ]
  },
  {
   "cell_type": "code",
   "execution_count": 56,
   "metadata": {},
   "outputs": [
    {
     "data": {
      "text/plain": [
       "Index(['city', 'hotel_name', 'hotel_prices', 'rating', 'number of review',\n",
       "       'hotel_link', 'hotel_address', 'latitude', 'longitude'],\n",
       "      dtype='object')"
      ]
     },
     "execution_count": 56,
     "metadata": {},
     "output_type": "execute_result"
    }
   ],
   "source": [
    "hotel_deal_merged_final.columns"
   ]
  },
  {
   "cell_type": "code",
   "execution_count": 65,
   "metadata": {},
   "outputs": [
    {
     "data": {
      "text/html": [
       "<div>\n",
       "<style scoped>\n",
       "    .dataframe tbody tr th:only-of-type {\n",
       "        vertical-align: middle;\n",
       "    }\n",
       "\n",
       "    .dataframe tbody tr th {\n",
       "        vertical-align: top;\n",
       "    }\n",
       "\n",
       "    .dataframe thead th {\n",
       "        text-align: right;\n",
       "    }\n",
       "</style>\n",
       "<table border=\"1\" class=\"dataframe\">\n",
       "  <thead>\n",
       "    <tr style=\"text-align: right;\">\n",
       "      <th></th>\n",
       "      <th>city</th>\n",
       "      <th>hotel_name</th>\n",
       "      <th>hotel_prices</th>\n",
       "      <th>rating</th>\n",
       "      <th>hotel_link</th>\n",
       "      <th>hotel_address</th>\n",
       "      <th>latitude</th>\n",
       "      <th>longitude</th>\n",
       "    </tr>\n",
       "  </thead>\n",
       "  <tbody>\n",
       "    <tr>\n",
       "      <th>0</th>\n",
       "      <td>Marseille</td>\n",
       "      <td>Appart'City Confort Marseille Centre Prado Vél...</td>\n",
       "      <td>1271.0</td>\n",
       "      <td>7.7</td>\n",
       "      <td>https://www.booking.com/hotel/fr/seven-urban-s...</td>\n",
       "      <td>1 Rue Vandel, 13008 Marseille, France</td>\n",
       "      <td>43.279855</td>\n",
       "      <td>5.390496</td>\n",
       "    </tr>\n",
       "  </tbody>\n",
       "</table>\n",
       "</div>"
      ],
      "text/plain": [
       "        city                                         hotel_name  hotel_prices  \\\n",
       "0  Marseille  Appart'City Confort Marseille Centre Prado Vél...        1271.0   \n",
       "\n",
       "   rating                                         hotel_link  \\\n",
       "0     7.7  https://www.booking.com/hotel/fr/seven-urban-s...   \n",
       "\n",
       "                           hotel_address   latitude  longitude  \n",
       "0  1 Rue Vandel, 13008 Marseille, France  43.279855   5.390496  "
      ]
     },
     "execution_count": 65,
     "metadata": {},
     "output_type": "execute_result"
    }
   ],
   "source": [
    "# Connect to the SQLite database\n",
    "conn = sqlite3.connect('best_hotels_deals.db')\n",
    "\n",
    "# Write the SQL query\n",
    "query = '''\n",
    "SELECT city, hotel_name, hotel_prices, rating, hotel_link, hotel_address, latitude, longitude\n",
    "FROM hotel_deal_merged_final\n",
    "WHERE city = 'Marseille'\n",
    "ORDER BY hotel_prices ASC\n",
    "LIMIT 1\n",
    "'''\n",
    "\n",
    "# Execute the query and fetch the result into a DataFrame\n",
    "cheapest_hotel_marseille_df = pd.read_sql(query, conn)\n",
    "\n",
    "# Close the connection\n",
    "conn.close()\n",
    "\n",
    "# Display the result\n",
    "cheapest_hotel_marseille_df\n"
   ]
  },
  {
   "cell_type": "code",
   "execution_count": 71,
   "metadata": {},
   "outputs": [
    {
     "data": {
      "text/html": [
       "<div>\n",
       "<style scoped>\n",
       "    .dataframe tbody tr th:only-of-type {\n",
       "        vertical-align: middle;\n",
       "    }\n",
       "\n",
       "    .dataframe tbody tr th {\n",
       "        vertical-align: top;\n",
       "    }\n",
       "\n",
       "    .dataframe thead th {\n",
       "        text-align: right;\n",
       "    }\n",
       "</style>\n",
       "<table border=\"1\" class=\"dataframe\">\n",
       "  <thead>\n",
       "    <tr style=\"text-align: right;\">\n",
       "      <th></th>\n",
       "      <th>city</th>\n",
       "      <th>hotel_name</th>\n",
       "      <th>hotel_prices</th>\n",
       "      <th>rating</th>\n",
       "      <th>hotel_link</th>\n",
       "      <th>hotel_address</th>\n",
       "      <th>latitude</th>\n",
       "      <th>longitude</th>\n",
       "    </tr>\n",
       "  </thead>\n",
       "  <tbody>\n",
       "    <tr>\n",
       "      <th>0</th>\n",
       "      <td>Avignon</td>\n",
       "      <td>Hôtel Kyriad Cap Sud</td>\n",
       "      <td>793.0</td>\n",
       "      <td>7.7</td>\n",
       "      <td>https://www.booking.com/hotel/fr/kyriad-avigno...</td>\n",
       "      <td>35 Allee Des Fenaisons, 84000 Avignon, France</td>\n",
       "      <td>43.927448</td>\n",
       "      <td>4.847889</td>\n",
       "    </tr>\n",
       "  </tbody>\n",
       "</table>\n",
       "</div>"
      ],
      "text/plain": [
       "      city            hotel_name  hotel_prices  rating  \\\n",
       "0  Avignon  Hôtel Kyriad Cap Sud         793.0     7.7   \n",
       "\n",
       "                                          hotel_link  \\\n",
       "0  https://www.booking.com/hotel/fr/kyriad-avigno...   \n",
       "\n",
       "                                   hotel_address   latitude  longitude  \n",
       "0  35 Allee Des Fenaisons, 84000 Avignon, France  43.927448   4.847889  "
      ]
     },
     "execution_count": 71,
     "metadata": {},
     "output_type": "execute_result"
    }
   ],
   "source": [
    "# Connect to the SQLite database\n",
    "conn = sqlite3.connect('best_hotels_deals.db')\n",
    "\n",
    "# Write the SQL query\n",
    "query = '''\n",
    "SELECT city, hotel_name, hotel_prices, rating, hotel_link, hotel_address, latitude, longitude\n",
    "FROM hotel_deal_merged_final\n",
    "WHERE city = 'Avignon'\n",
    "ORDER BY hotel_prices ASC\n",
    "LIMIT 1\n",
    "'''\n",
    "\n",
    "# Execute the query and fetch the result into a DataFrame\n",
    "cheapest_hotel_avignon_df = pd.read_sql(query, conn)\n",
    "\n",
    "# Close the connection\n",
    "conn.close()\n",
    "\n",
    "# Display the result for 7 night 3 pers\n",
    "cheapest_hotel_avignon_df\n"
   ]
  },
  {
   "cell_type": "code",
   "execution_count": 74,
   "metadata": {},
   "outputs": [
    {
     "data": {
      "text/plain": [
       "0        Marseille\n",
       "1          Avignon\n",
       "2    Aigues Mortes\n",
       "3           Cassis\n",
       "4             Uzes\n",
       "Name: city, dtype: object"
      ]
     },
     "execution_count": 74,
     "metadata": {},
     "output_type": "execute_result"
    }
   ],
   "source": [
    "top_5_cities_df['city']"
   ]
  },
  {
   "cell_type": "code",
   "execution_count": 77,
   "metadata": {},
   "outputs": [
    {
     "data": {
      "text/html": [
       "<div>\n",
       "<style scoped>\n",
       "    .dataframe tbody tr th:only-of-type {\n",
       "        vertical-align: middle;\n",
       "    }\n",
       "\n",
       "    .dataframe tbody tr th {\n",
       "        vertical-align: top;\n",
       "    }\n",
       "\n",
       "    .dataframe thead th {\n",
       "        text-align: right;\n",
       "    }\n",
       "</style>\n",
       "<table border=\"1\" class=\"dataframe\">\n",
       "  <thead>\n",
       "    <tr style=\"text-align: right;\">\n",
       "      <th></th>\n",
       "      <th>city</th>\n",
       "      <th>hotel_name</th>\n",
       "      <th>hotel_prices</th>\n",
       "      <th>rating</th>\n",
       "      <th>hotel_link</th>\n",
       "      <th>hotel_address</th>\n",
       "      <th>latitude</th>\n",
       "      <th>longitude</th>\n",
       "    </tr>\n",
       "  </thead>\n",
       "  <tbody>\n",
       "    <tr>\n",
       "      <th>0</th>\n",
       "      <td>Marseille</td>\n",
       "      <td>Appart'City Confort Marseille Centre Prado Vél...</td>\n",
       "      <td>1271.0</td>\n",
       "      <td>7.7</td>\n",
       "      <td>https://www.booking.com/hotel/fr/seven-urban-s...</td>\n",
       "      <td>1 Rue Vandel, 13008 Marseille, France</td>\n",
       "      <td>43.279855</td>\n",
       "      <td>5.390496</td>\n",
       "    </tr>\n",
       "    <tr>\n",
       "      <th>1</th>\n",
       "      <td>Cassis</td>\n",
       "      <td>Logis Noemys pont de l'Etoile - ex Mas de L'Et...</td>\n",
       "      <td>995.0</td>\n",
       "      <td>7.7</td>\n",
       "      <td>https://www.booking.com/hotel/fr/le-mas-de-let...</td>\n",
       "      <td>Chemin de la Gauthière, 13400 Aubagne, France</td>\n",
       "      <td>43.323016</td>\n",
       "      <td>5.594385</td>\n",
       "    </tr>\n",
       "    <tr>\n",
       "      <th>2</th>\n",
       "      <td>Avignon</td>\n",
       "      <td>Hôtel Kyriad Cap Sud</td>\n",
       "      <td>793.0</td>\n",
       "      <td>7.7</td>\n",
       "      <td>https://www.booking.com/hotel/fr/kyriad-avigno...</td>\n",
       "      <td>35 Allee Des Fenaisons, 84000 Avignon, France</td>\n",
       "      <td>43.927448</td>\n",
       "      <td>4.847889</td>\n",
       "    </tr>\n",
       "    <tr>\n",
       "      <th>3</th>\n",
       "      <td>Aigues-Mortes</td>\n",
       "      <td>Residence Residéal La Grande Motte</td>\n",
       "      <td>868.0</td>\n",
       "      <td>7.3</td>\n",
       "      <td>https://www.booking.com/hotel/fr/residence-res...</td>\n",
       "      <td>312 Allée de La Plage, 34280 La Grande-Motte, ...</td>\n",
       "      <td>43.557926</td>\n",
       "      <td>4.097654</td>\n",
       "    </tr>\n",
       "    <tr>\n",
       "      <th>4</th>\n",
       "      <td>Uzès</td>\n",
       "      <td>greet hôtel Pont du Gard - Route d'Avignon</td>\n",
       "      <td>777.0</td>\n",
       "      <td>8.4</td>\n",
       "      <td>https://www.booking.com/hotel/fr/la-fenouiller...</td>\n",
       "      <td>247 Chemin de la Fenouillère, 30390 Estézargue...</td>\n",
       "      <td>43.951664</td>\n",
       "      <td>4.638676</td>\n",
       "    </tr>\n",
       "  </tbody>\n",
       "</table>\n",
       "</div>"
      ],
      "text/plain": [
       "            city                                         hotel_name  \\\n",
       "0      Marseille  Appart'City Confort Marseille Centre Prado Vél...   \n",
       "1         Cassis  Logis Noemys pont de l'Etoile - ex Mas de L'Et...   \n",
       "2        Avignon                               Hôtel Kyriad Cap Sud   \n",
       "3  Aigues-Mortes                 Residence Residéal La Grande Motte   \n",
       "4           Uzès         greet hôtel Pont du Gard - Route d'Avignon   \n",
       "\n",
       "   hotel_prices  rating                                         hotel_link  \\\n",
       "0        1271.0     7.7  https://www.booking.com/hotel/fr/seven-urban-s...   \n",
       "1         995.0     7.7  https://www.booking.com/hotel/fr/le-mas-de-let...   \n",
       "2         793.0     7.7  https://www.booking.com/hotel/fr/kyriad-avigno...   \n",
       "3         868.0     7.3  https://www.booking.com/hotel/fr/residence-res...   \n",
       "4         777.0     8.4  https://www.booking.com/hotel/fr/la-fenouiller...   \n",
       "\n",
       "                                       hotel_address   latitude  longitude  \n",
       "0              1 Rue Vandel, 13008 Marseille, France  43.279855   5.390496  \n",
       "1      Chemin de la Gauthière, 13400 Aubagne, France  43.323016   5.594385  \n",
       "2      35 Allee Des Fenaisons, 84000 Avignon, France  43.927448   4.847889  \n",
       "3  312 Allée de La Plage, 34280 La Grande-Motte, ...  43.557926   4.097654  \n",
       "4  247 Chemin de la Fenouillère, 30390 Estézargue...  43.951664   4.638676  "
      ]
     },
     "execution_count": 77,
     "metadata": {},
     "output_type": "execute_result"
    }
   ],
   "source": [
    "# List of cities to query\n",
    "cities = ['Marseille', 'Cassis', 'Avignon', 'Aigues-Mortes', 'Uzès']\n",
    "\n",
    "# Function to get the cheapest hotel deal for a given city\n",
    "def get_cheapest_hotel(city):\n",
    "    try:\n",
    "        # Connect to the SQLite database\n",
    "        conn = sqlite3.connect('best_hotels_deals.db')\n",
    "        \n",
    "        # Write the SQL query\n",
    "        query = f'''\n",
    "        SELECT city, hotel_name, hotel_prices,rating, hotel_link, hotel_address, latitude, longitude\n",
    "        FROM hotel_deal_merged_final\n",
    "        WHERE city = '{city}'\n",
    "        ORDER BY hotel_prices ASC\n",
    "        LIMIT 1\n",
    "        '''\n",
    "        \n",
    "        # Execute the query and fetch the result into a DataFrame\n",
    "        df = pd.read_sql(query, conn)\n",
    "        \n",
    "        # Close the connection\n",
    "        conn.close()\n",
    "        \n",
    "        return df\n",
    "    \n",
    "    except Exception as e:\n",
    "        print(f\"An error occurred for city '{city}': {e}\")\n",
    "        return pd.DataFrame()\n",
    "\n",
    "# Fetch the cheapest hotel deal for each city\n",
    "results = []\n",
    "for city in cities:\n",
    "    df = get_cheapest_hotel(city)\n",
    "    if not df.empty:\n",
    "        results.append(df)\n",
    "    else:\n",
    "        print(f\"No data found for city '{city}'\")\n",
    "\n",
    "# Combine results into a single DataFrame\n",
    "combined_results_df = pd.concat(results, ignore_index=True)\n",
    "\n",
    "# Display the result for 7 night 3 pers\n",
    "combined_results_df\n"
   ]
  },
  {
   "cell_type": "code",
   "execution_count": 80,
   "metadata": {},
   "outputs": [
    {
     "data": {
      "application/vnd.plotly.v1+json": {
       "config": {
        "plotlyServerURL": "https://plot.ly"
       },
       "data": [
        {
         "customdata": [
          [
           "Marseille",
           1271,
           7.7,
           "https://www.booking.com/hotel/fr/seven-urban-suites.html?label=gen173nr-1FCAEoggI46AdIM1gEaKQCiAEBmAExuAEHyAEP2AEB6AEB-AECiAIBqAIDuAKP7-yzBsACAdICJDc2MmVkZWM4LTQ1ZTYtNGYwZi1hMmY3LTFjZGE1MjA4N2RhYtgCBeACAQ&aid=304142&ucfs=1&arphpl=1&checkin=2024-07-20&checkout=2024-07-28&dest_id=-1449947&dest_type=city&group_adults=3&req_adults=3&no_rooms=1&group_children=0&req_children=0&hpos=1&hapos=1&sr_order=price&nflt=class%3D3%3Bclass%3D4%3Bclass%3D5%3Bht_id%3D204&srpvid=83f697acbd450499&srepoch=1719351261&all_sr_blocks=35955503_88927438_3_2_0&highlighted_blocks=35955503_88927438_3_2_0&matching_block_id=35955503_88927438_3_2_0&sr_pri_blocks=35955503_88927438_3_2_0__118440&from_sustainable_property_sr=1&from=searchresults#hotelTmpl"
          ],
          [
           "Cassis",
           995,
           7.7,
           "https://www.booking.com/hotel/fr/le-mas-de-letoile.html?label=gen173nr-1FCAEoggI46AdIM1gEaKQCiAEBmAExuAEHyAEP2AEB6AEB-AECiAIBqAIDuALx6-yzBsACAdICJDg2MjkyOGM2LWIyOTUtNGJkZi04NmFlLWU2N2FhYTRmMmYyMtgCBeACAQ&aid=304142&ucfs=1&arphpl=1&checkin=2024-07-20&checkout=2024-07-28&dest_id=-1416912&dest_type=city&group_adults=3&req_adults=3&no_rooms=1&group_children=0&req_children=0&hpos=19&hapos=19&sr_order=price&nflt=class%3D4%3Bclass%3D3%3Bclass%3D5%3Bht_id%3D204&srpvid=a81c96daa80b020e&srepoch=1719350843&all_sr_blocks=22868606_91467851_3_34_0&highlighted_blocks=22868606_91467851_3_34_0&matching_block_id=22868606_91467851_3_34_0&sr_pri_blocks=22868606_91467851_3_34_0__92700&from_sustainable_property_sr=1&from=searchresults#hotelTmpl"
          ],
          [
           "Avignon",
           793,
           7.7,
           "https://www.booking.com/hotel/fr/kyriad-avignon-cap-sud.html?label=gen173nr-1FCAEoggI46AdIM1gEaKQCiAEBmAExuAEHyAEP2AEB6AEB-AECiAIBqAIDuAKu8eyzBsACAdICJGQ3YmU4MzBhLWY2NGUtNDgxOC04MWIwLTY2MjMyYTcxZTk0MNgCBeACAQ&aid=304142&ucfs=1&arphpl=1&checkin=2024-07-20&checkout=2024-07-28&dest_id=-1409631&dest_type=city&group_adults=3&req_adults=3&no_rooms=1&group_children=0&req_children=0&hpos=1&hapos=1&sr_order=price&nflt=class%3D3%3Bclass%3D4%3Bclass%3D5%3Bht_id%3D204&srpvid=6d24982dc4b80330&srepoch=1719351524&all_sr_blocks=21954902_0_3_0_0&highlighted_blocks=21954902_0_3_0_0&matching_block_id=21954902_0_3_0_0&sr_pri_blocks=21954902_0_3_0_0__73922&from_sustainable_property_sr=1&from=searchresults#hotelTmpl"
          ],
          [
           "Aigues-Mortes",
           868,
           7.3,
           "https://www.booking.com/hotel/fr/residence-resideal-la-grande-motte.html?label=gen173nr-1FCAEoggI46AdIM1gEaKQCiAEBmAExuAEHyAEP2AEB6AEB-AECiAIBqAIDuALS3eyzBsACAdICJGIyZmQ2ZGJjLWRlYzMtNGMwOC1iMWVlLTE1MDJjOGViZmIwM9gCBeACAQ&aid=304142&ucfs=1&arphpl=1&checkin=2024-07-20&checkout=2024-07-28&dest_id=-1406800&dest_type=city&group_adults=3&req_adults=3&no_rooms=1&group_children=0&req_children=0&hpos=8&hapos=8&sr_order=price&nflt=class%3D3%3Bclass%3D4%3Bclass%3D5%3Bht_id%3D204&srpvid=4b35933b94f300a8&srepoch=1719348989&all_sr_blocks=5346701_88555352_0_0_0&highlighted_blocks=5346701_88555352_0_0_0&matching_block_id=5346701_88555352_0_0_0&sr_pri_blocks=5346701_88555352_0_0_0__80920&from=searchresults"
          ],
          [
           "Uzès",
           777,
           8.4,
           "https://www.booking.com/hotel/fr/la-fenouillere-estezargues.html?label=gen173nr-1FCAEoggI46AdIM1gEaKQCiAEBmAExuAEHyAEP2AEB6AEB-AECiAIBqAIDuAKE8uyzBsACAdICJDc5OGUxZjg1LWNhODQtNDMwNC05ZTBlLTIxZTZkMTA2YTE2ONgCBeACAQ&aid=304142&ucfs=1&arphpl=1&checkin=2024-07-20&checkout=2024-07-28&dest_id=-1474231&dest_type=city&group_adults=3&req_adults=3&no_rooms=1&group_children=0&req_children=0&hpos=11&hapos=11&sr_order=price&nflt=class%3D3%3Bclass%3D4%3Bclass%3D5%3Bht_id%3D204&srpvid=491498754fd90163&srepoch=1719351666&all_sr_blocks=623425008_242839673_3_2_0&highlighted_blocks=623425008_242839673_3_2_0&matching_block_id=623425008_242839673_3_2_0&sr_pri_blocks=623425008_242839673_3_2_0__72401&from_sustainable_property_sr=1&from=searchresults#hotelTmpl"
          ]
         ],
         "hovertemplate": "<b>%{hovertext}</b><br><br>hotel_prices=%{marker.color}<br>latitude=%{lat}<br>longitude=%{lon}<br>city=%{customdata[0]}<br>rating=%{customdata[2]}<br>hotel_link=%{customdata[3]}<extra></extra>",
         "hovertext": [
          "Appart'City Confort Marseille Centre Prado Vélodrome",
          "Logis Noemys pont de l'Etoile - ex Mas de L'Etoile",
          "Hôtel Kyriad Cap Sud",
          "Residence Residéal La Grande Motte",
          "greet hôtel Pont du Gard - Route d'Avignon"
         ],
         "lat": [
          43.2798554,
          43.32301568,
          43.9274482,
          43.5579264,
          43.95166379
         ],
         "legendgroup": "",
         "lon": [
          5.390496,
          5.59438527,
          4.84788895,
          4.09765363,
          4.63867563
         ],
         "marker": {
          "color": [
           1271,
           995,
           793,
           868,
           777
          ],
          "coloraxis": "coloraxis",
          "size": [
           1271,
           995,
           793,
           868,
           777
          ],
          "sizemode": "area",
          "sizeref": 5.648888888888889
         },
         "mode": "markers",
         "name": "",
         "showlegend": false,
         "subplot": "mapbox",
         "type": "scattermapbox"
        }
       ],
       "layout": {
        "coloraxis": {
         "colorbar": {
          "title": {
           "text": "hotel_prices"
          }
         },
         "colorscale": [
          [
           0,
           "#000000"
          ],
          [
           0.0625,
           "#001f4d"
          ],
          [
           0.125,
           "#003786"
          ],
          [
           0.1875,
           "#0e58a8"
          ],
          [
           0.25,
           "#217eb8"
          ],
          [
           0.3125,
           "#30a4ca"
          ],
          [
           0.375,
           "#54c8df"
          ],
          [
           0.4375,
           "#9be4ef"
          ],
          [
           0.5,
           "#e1e9d1"
          ],
          [
           0.5625,
           "#f3d573"
          ],
          [
           0.625,
           "#e7b000"
          ],
          [
           0.6875,
           "#da8200"
          ],
          [
           0.75,
           "#c65400"
          ],
          [
           0.8125,
           "#ac2301"
          ],
          [
           0.875,
           "#820000"
          ],
          [
           0.9375,
           "#4c0000"
          ],
          [
           1,
           "#000000"
          ]
         ]
        },
        "legend": {
         "itemsizing": "constant",
         "tracegroupgap": 0
        },
        "mapbox": {
         "center": {
          "lat": 43.607981894,
          "lon": 4.913819896
         },
         "domain": {
          "x": [
           0,
           1
          ],
          "y": [
           0,
           1
          ]
         },
         "style": "open-street-map",
         "zoom": 5
        },
        "template": {
         "data": {
          "bar": [
           {
            "error_x": {
             "color": "#2a3f5f"
            },
            "error_y": {
             "color": "#2a3f5f"
            },
            "marker": {
             "line": {
              "color": "#E5ECF6",
              "width": 0.5
             },
             "pattern": {
              "fillmode": "overlay",
              "size": 10,
              "solidity": 0.2
             }
            },
            "type": "bar"
           }
          ],
          "barpolar": [
           {
            "marker": {
             "line": {
              "color": "#E5ECF6",
              "width": 0.5
             },
             "pattern": {
              "fillmode": "overlay",
              "size": 10,
              "solidity": 0.2
             }
            },
            "type": "barpolar"
           }
          ],
          "carpet": [
           {
            "aaxis": {
             "endlinecolor": "#2a3f5f",
             "gridcolor": "white",
             "linecolor": "white",
             "minorgridcolor": "white",
             "startlinecolor": "#2a3f5f"
            },
            "baxis": {
             "endlinecolor": "#2a3f5f",
             "gridcolor": "white",
             "linecolor": "white",
             "minorgridcolor": "white",
             "startlinecolor": "#2a3f5f"
            },
            "type": "carpet"
           }
          ],
          "choropleth": [
           {
            "colorbar": {
             "outlinewidth": 0,
             "ticks": ""
            },
            "type": "choropleth"
           }
          ],
          "contour": [
           {
            "colorbar": {
             "outlinewidth": 0,
             "ticks": ""
            },
            "colorscale": [
             [
              0,
              "#0d0887"
             ],
             [
              0.1111111111111111,
              "#46039f"
             ],
             [
              0.2222222222222222,
              "#7201a8"
             ],
             [
              0.3333333333333333,
              "#9c179e"
             ],
             [
              0.4444444444444444,
              "#bd3786"
             ],
             [
              0.5555555555555556,
              "#d8576b"
             ],
             [
              0.6666666666666666,
              "#ed7953"
             ],
             [
              0.7777777777777778,
              "#fb9f3a"
             ],
             [
              0.8888888888888888,
              "#fdca26"
             ],
             [
              1,
              "#f0f921"
             ]
            ],
            "type": "contour"
           }
          ],
          "contourcarpet": [
           {
            "colorbar": {
             "outlinewidth": 0,
             "ticks": ""
            },
            "type": "contourcarpet"
           }
          ],
          "heatmap": [
           {
            "colorbar": {
             "outlinewidth": 0,
             "ticks": ""
            },
            "colorscale": [
             [
              0,
              "#0d0887"
             ],
             [
              0.1111111111111111,
              "#46039f"
             ],
             [
              0.2222222222222222,
              "#7201a8"
             ],
             [
              0.3333333333333333,
              "#9c179e"
             ],
             [
              0.4444444444444444,
              "#bd3786"
             ],
             [
              0.5555555555555556,
              "#d8576b"
             ],
             [
              0.6666666666666666,
              "#ed7953"
             ],
             [
              0.7777777777777778,
              "#fb9f3a"
             ],
             [
              0.8888888888888888,
              "#fdca26"
             ],
             [
              1,
              "#f0f921"
             ]
            ],
            "type": "heatmap"
           }
          ],
          "heatmapgl": [
           {
            "colorbar": {
             "outlinewidth": 0,
             "ticks": ""
            },
            "colorscale": [
             [
              0,
              "#0d0887"
             ],
             [
              0.1111111111111111,
              "#46039f"
             ],
             [
              0.2222222222222222,
              "#7201a8"
             ],
             [
              0.3333333333333333,
              "#9c179e"
             ],
             [
              0.4444444444444444,
              "#bd3786"
             ],
             [
              0.5555555555555556,
              "#d8576b"
             ],
             [
              0.6666666666666666,
              "#ed7953"
             ],
             [
              0.7777777777777778,
              "#fb9f3a"
             ],
             [
              0.8888888888888888,
              "#fdca26"
             ],
             [
              1,
              "#f0f921"
             ]
            ],
            "type": "heatmapgl"
           }
          ],
          "histogram": [
           {
            "marker": {
             "pattern": {
              "fillmode": "overlay",
              "size": 10,
              "solidity": 0.2
             }
            },
            "type": "histogram"
           }
          ],
          "histogram2d": [
           {
            "colorbar": {
             "outlinewidth": 0,
             "ticks": ""
            },
            "colorscale": [
             [
              0,
              "#0d0887"
             ],
             [
              0.1111111111111111,
              "#46039f"
             ],
             [
              0.2222222222222222,
              "#7201a8"
             ],
             [
              0.3333333333333333,
              "#9c179e"
             ],
             [
              0.4444444444444444,
              "#bd3786"
             ],
             [
              0.5555555555555556,
              "#d8576b"
             ],
             [
              0.6666666666666666,
              "#ed7953"
             ],
             [
              0.7777777777777778,
              "#fb9f3a"
             ],
             [
              0.8888888888888888,
              "#fdca26"
             ],
             [
              1,
              "#f0f921"
             ]
            ],
            "type": "histogram2d"
           }
          ],
          "histogram2dcontour": [
           {
            "colorbar": {
             "outlinewidth": 0,
             "ticks": ""
            },
            "colorscale": [
             [
              0,
              "#0d0887"
             ],
             [
              0.1111111111111111,
              "#46039f"
             ],
             [
              0.2222222222222222,
              "#7201a8"
             ],
             [
              0.3333333333333333,
              "#9c179e"
             ],
             [
              0.4444444444444444,
              "#bd3786"
             ],
             [
              0.5555555555555556,
              "#d8576b"
             ],
             [
              0.6666666666666666,
              "#ed7953"
             ],
             [
              0.7777777777777778,
              "#fb9f3a"
             ],
             [
              0.8888888888888888,
              "#fdca26"
             ],
             [
              1,
              "#f0f921"
             ]
            ],
            "type": "histogram2dcontour"
           }
          ],
          "mesh3d": [
           {
            "colorbar": {
             "outlinewidth": 0,
             "ticks": ""
            },
            "type": "mesh3d"
           }
          ],
          "parcoords": [
           {
            "line": {
             "colorbar": {
              "outlinewidth": 0,
              "ticks": ""
             }
            },
            "type": "parcoords"
           }
          ],
          "pie": [
           {
            "automargin": true,
            "type": "pie"
           }
          ],
          "scatter": [
           {
            "fillpattern": {
             "fillmode": "overlay",
             "size": 10,
             "solidity": 0.2
            },
            "type": "scatter"
           }
          ],
          "scatter3d": [
           {
            "line": {
             "colorbar": {
              "outlinewidth": 0,
              "ticks": ""
             }
            },
            "marker": {
             "colorbar": {
              "outlinewidth": 0,
              "ticks": ""
             }
            },
            "type": "scatter3d"
           }
          ],
          "scattercarpet": [
           {
            "marker": {
             "colorbar": {
              "outlinewidth": 0,
              "ticks": ""
             }
            },
            "type": "scattercarpet"
           }
          ],
          "scattergeo": [
           {
            "marker": {
             "colorbar": {
              "outlinewidth": 0,
              "ticks": ""
             }
            },
            "type": "scattergeo"
           }
          ],
          "scattergl": [
           {
            "marker": {
             "colorbar": {
              "outlinewidth": 0,
              "ticks": ""
             }
            },
            "type": "scattergl"
           }
          ],
          "scattermapbox": [
           {
            "marker": {
             "colorbar": {
              "outlinewidth": 0,
              "ticks": ""
             }
            },
            "type": "scattermapbox"
           }
          ],
          "scatterpolar": [
           {
            "marker": {
             "colorbar": {
              "outlinewidth": 0,
              "ticks": ""
             }
            },
            "type": "scatterpolar"
           }
          ],
          "scatterpolargl": [
           {
            "marker": {
             "colorbar": {
              "outlinewidth": 0,
              "ticks": ""
             }
            },
            "type": "scatterpolargl"
           }
          ],
          "scatterternary": [
           {
            "marker": {
             "colorbar": {
              "outlinewidth": 0,
              "ticks": ""
             }
            },
            "type": "scatterternary"
           }
          ],
          "surface": [
           {
            "colorbar": {
             "outlinewidth": 0,
             "ticks": ""
            },
            "colorscale": [
             [
              0,
              "#0d0887"
             ],
             [
              0.1111111111111111,
              "#46039f"
             ],
             [
              0.2222222222222222,
              "#7201a8"
             ],
             [
              0.3333333333333333,
              "#9c179e"
             ],
             [
              0.4444444444444444,
              "#bd3786"
             ],
             [
              0.5555555555555556,
              "#d8576b"
             ],
             [
              0.6666666666666666,
              "#ed7953"
             ],
             [
              0.7777777777777778,
              "#fb9f3a"
             ],
             [
              0.8888888888888888,
              "#fdca26"
             ],
             [
              1,
              "#f0f921"
             ]
            ],
            "type": "surface"
           }
          ],
          "table": [
           {
            "cells": {
             "fill": {
              "color": "#EBF0F8"
             },
             "line": {
              "color": "white"
             }
            },
            "header": {
             "fill": {
              "color": "#C8D4E3"
             },
             "line": {
              "color": "white"
             }
            },
            "type": "table"
           }
          ]
         },
         "layout": {
          "annotationdefaults": {
           "arrowcolor": "#2a3f5f",
           "arrowhead": 0,
           "arrowwidth": 1
          },
          "autotypenumbers": "strict",
          "coloraxis": {
           "colorbar": {
            "outlinewidth": 0,
            "ticks": ""
           }
          },
          "colorscale": {
           "diverging": [
            [
             0,
             "#8e0152"
            ],
            [
             0.1,
             "#c51b7d"
            ],
            [
             0.2,
             "#de77ae"
            ],
            [
             0.3,
             "#f1b6da"
            ],
            [
             0.4,
             "#fde0ef"
            ],
            [
             0.5,
             "#f7f7f7"
            ],
            [
             0.6,
             "#e6f5d0"
            ],
            [
             0.7,
             "#b8e186"
            ],
            [
             0.8,
             "#7fbc41"
            ],
            [
             0.9,
             "#4d9221"
            ],
            [
             1,
             "#276419"
            ]
           ],
           "sequential": [
            [
             0,
             "#0d0887"
            ],
            [
             0.1111111111111111,
             "#46039f"
            ],
            [
             0.2222222222222222,
             "#7201a8"
            ],
            [
             0.3333333333333333,
             "#9c179e"
            ],
            [
             0.4444444444444444,
             "#bd3786"
            ],
            [
             0.5555555555555556,
             "#d8576b"
            ],
            [
             0.6666666666666666,
             "#ed7953"
            ],
            [
             0.7777777777777778,
             "#fb9f3a"
            ],
            [
             0.8888888888888888,
             "#fdca26"
            ],
            [
             1,
             "#f0f921"
            ]
           ],
           "sequentialminus": [
            [
             0,
             "#0d0887"
            ],
            [
             0.1111111111111111,
             "#46039f"
            ],
            [
             0.2222222222222222,
             "#7201a8"
            ],
            [
             0.3333333333333333,
             "#9c179e"
            ],
            [
             0.4444444444444444,
             "#bd3786"
            ],
            [
             0.5555555555555556,
             "#d8576b"
            ],
            [
             0.6666666666666666,
             "#ed7953"
            ],
            [
             0.7777777777777778,
             "#fb9f3a"
            ],
            [
             0.8888888888888888,
             "#fdca26"
            ],
            [
             1,
             "#f0f921"
            ]
           ]
          },
          "colorway": [
           "#636efa",
           "#EF553B",
           "#00cc96",
           "#ab63fa",
           "#FFA15A",
           "#19d3f3",
           "#FF6692",
           "#B6E880",
           "#FF97FF",
           "#FECB52"
          ],
          "font": {
           "color": "#2a3f5f"
          },
          "geo": {
           "bgcolor": "white",
           "lakecolor": "white",
           "landcolor": "#E5ECF6",
           "showlakes": true,
           "showland": true,
           "subunitcolor": "white"
          },
          "hoverlabel": {
           "align": "left"
          },
          "hovermode": "closest",
          "mapbox": {
           "style": "light"
          },
          "paper_bgcolor": "white",
          "plot_bgcolor": "#E5ECF6",
          "polar": {
           "angularaxis": {
            "gridcolor": "white",
            "linecolor": "white",
            "ticks": ""
           },
           "bgcolor": "#E5ECF6",
           "radialaxis": {
            "gridcolor": "white",
            "linecolor": "white",
            "ticks": ""
           }
          },
          "scene": {
           "xaxis": {
            "backgroundcolor": "#E5ECF6",
            "gridcolor": "white",
            "gridwidth": 2,
            "linecolor": "white",
            "showbackground": true,
            "ticks": "",
            "zerolinecolor": "white"
           },
           "yaxis": {
            "backgroundcolor": "#E5ECF6",
            "gridcolor": "white",
            "gridwidth": 2,
            "linecolor": "white",
            "showbackground": true,
            "ticks": "",
            "zerolinecolor": "white"
           },
           "zaxis": {
            "backgroundcolor": "#E5ECF6",
            "gridcolor": "white",
            "gridwidth": 2,
            "linecolor": "white",
            "showbackground": true,
            "ticks": "",
            "zerolinecolor": "white"
           }
          },
          "shapedefaults": {
           "line": {
            "color": "#2a3f5f"
           }
          },
          "ternary": {
           "aaxis": {
            "gridcolor": "white",
            "linecolor": "white",
            "ticks": ""
           },
           "baxis": {
            "gridcolor": "white",
            "linecolor": "white",
            "ticks": ""
           },
           "bgcolor": "#E5ECF6",
           "caxis": {
            "gridcolor": "white",
            "linecolor": "white",
            "ticks": ""
           }
          },
          "title": {
           "x": 0.05
          },
          "xaxis": {
           "automargin": true,
           "gridcolor": "white",
           "linecolor": "white",
           "ticks": "",
           "title": {
            "standoff": 15
           },
           "zerolinecolor": "white",
           "zerolinewidth": 2
          },
          "yaxis": {
           "automargin": true,
           "gridcolor": "white",
           "linecolor": "white",
           "ticks": "",
           "title": {
            "standoff": 15
           },
           "zerolinecolor": "white",
           "zerolinewidth": 2
          }
         }
        },
        "title": {
         "text": "Top Hotel Deals"
        }
       }
      }
     },
     "metadata": {},
     "output_type": "display_data"
    }
   ],
   "source": [
    "fig = px.scatter_mapbox(combined_results_df,\n",
    "                        lat=\"latitude\",\n",
    "                        lon=\"longitude\",\n",
    "                        hover_name=\"hotel_name\",\n",
    "                        hover_data={\"city\": True, \"hotel_prices\": True, \"rating\": True, \"hotel_link\": True},\n",
    "                        color=\"hotel_prices\",\n",
    "                        size=\"hotel_prices\",\n",
    "                        color_continuous_scale=px.colors.cyclical.IceFire,\n",
    "                        size_max=15,\n",
    "                        zoom=5,\n",
    "                        title=\"Top Hotel Deals\")\n",
    "\n",
    "# Update the layout for mapbox style\n",
    "fig.update_layout(mapbox_style=\"open-street-map\")\n",
    "\n",
    "# Display the map\n",
    "fig.show()"
   ]
  }
 ],
 "metadata": {
  "kernelspec": {
   "display_name": "Python 3",
   "language": "python",
   "name": "python3"
  },
  "language_info": {
   "codemirror_mode": {
    "name": "ipython",
    "version": 3
   },
   "file_extension": ".py",
   "mimetype": "text/x-python",
   "name": "python",
   "nbconvert_exporter": "python",
   "pygments_lexer": "ipython3",
   "version": "3.11.8"
  }
 },
 "nbformat": 4,
 "nbformat_minor": 2
}
